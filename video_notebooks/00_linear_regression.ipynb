{
 "cells": [
  {
   "cell_type": "code",
   "execution_count": 2,
   "metadata": {},
   "outputs": [
    {
     "data": {
      "text/plain": [
       "array([  6.28511296e+01,   7.98637002e+01,   9.89259351e+01,\n",
       "         6.82723467e+01,   5.47562780e+00,   5.19385646e+01,\n",
       "         1.32665520e+01,   6.73543645e-02,   8.95430879e+01,\n",
       "         6.05640292e+01,   7.48551934e+01,   7.82717677e+01,\n",
       "         3.88343197e+01,   1.13571994e+00,   3.66745995e+01,\n",
       "         4.96885351e+01,   4.34769796e+01,   9.27881013e+01,\n",
       "         3.83490514e+01,   4.21336247e+01,   4.37686850e+01,\n",
       "         3.01440271e+01,   7.64978617e+01,   8.02989885e+01,\n",
       "         6.67011846e+01,   2.44364620e+01,   4.68589495e+01,\n",
       "         5.78993233e+01,   4.69744467e+01,   1.65742563e+01,\n",
       "         5.42474587e+01,   9.78378572e+01,   1.77036429e+00,\n",
       "         4.15515562e+00,   8.52137281e+01,   4.38037736e+01,\n",
       "         8.59649940e+01,   5.48350091e+01,   5.47879091e+01,\n",
       "         6.39186227e+01,   7.27601867e+01,   9.92835131e+01,\n",
       "         2.91642687e+01,   9.99464563e+01,   6.06233943e+01,\n",
       "         9.97001905e+01,   5.40696716e+01,   7.03383042e+01,\n",
       "         5.85814202e+01,   5.11551880e+01,   4.80314369e+01,\n",
       "         8.84422673e+00,   3.66717264e-01,   9.49487342e+01,\n",
       "         3.08820277e+01,   5.55435774e+00,   5.51007185e+01,\n",
       "         8.65317619e+01,   5.73822461e+01,   9.06599833e+01,\n",
       "         9.12056342e+01,   9.14442166e+01,   8.09898857e+01,\n",
       "         1.14091781e+01,   3.75247423e+01,   4.87440373e+01,\n",
       "         8.23731520e+01,   9.37887975e+01,   4.30953302e+01,\n",
       "         8.65019166e+01,   9.01899222e+01,   1.34172347e+01,\n",
       "         9.61129363e+00,   9.25220654e+01,   6.73186300e+01,\n",
       "         5.02773176e+01,   8.64271447e+01,   4.76618819e+01,\n",
       "         1.08257005e+01,   7.17794486e+01,   5.91687178e+01,\n",
       "         4.23569772e+01,   3.00288209e+01,   4.22092143e+01,\n",
       "         9.91347645e+00,   6.27477712e+00,   6.04213392e+01,\n",
       "         7.91553656e+00,   3.67017640e+01,   2.26562656e+01,\n",
       "         7.98080707e+01,   7.78191466e+01,   2.27910014e+01,\n",
       "         9.03758916e+01,   1.00374241e+01,   8.75244574e+01,\n",
       "         4.62600087e+01,   5.16478452e+01,   8.84000586e+01,\n",
       "         6.75923624e+01])"
      ]
     },
     "execution_count": 2,
     "metadata": {},
     "output_type": "execute_result"
    }
   ],
   "source": [
    "import numpy as np\n",
    "\n",
    "x_values = np.random.uniform(0, 100, size = 100)\n",
    "x_values"
   ]
  },
  {
   "cell_type": "code",
   "execution_count": 6,
   "metadata": {},
   "outputs": [
    {
     "name": "stdout",
     "output_type": "stream",
     "text": [
      "[ 295.75919668  340.19789582  362.40259939  255.68468698   72.31013633\n",
      "  217.53941941  109.56301314   18.33550842  412.73357185  287.36011408\n",
      "  355.08605798  318.60345256  192.89031321   -3.07450154  146.82925653\n",
      "  248.42172313  224.87982245  355.49208842  177.14176418  193.00395855\n",
      "  205.4514471   159.25763931  355.5234777   336.78283056  308.25334514\n",
      "  167.20863048  194.86566689  271.18507313  200.62702024   93.50978649\n",
      "  237.30541927  397.94159589   25.81396005   22.8702899   350.37279547\n",
      "  227.01159863  401.86481037  244.9264823   243.50917169  271.56429902\n",
      "  284.25312472  439.20940645  130.09609531  421.88051699  264.29375565\n",
      "  446.25331861  237.21525422  342.71919294  293.64949642  244.89760308\n",
      "  255.82853165   75.01385918   13.53206412  412.62488773  172.41274775\n",
      "   18.77291965  236.4820958   386.29028115  278.36260711  359.69352072\n",
      "  357.25665491  375.25384307  342.70321394   75.56650829  209.6161708\n",
      "  260.31879276  380.44059894  412.75097087  250.02505494  347.33849526\n",
      "  367.42884     111.78748763   56.15918942  391.27979657  304.60680693\n",
      "  214.71329022  409.96109707  225.64541244   53.11289269  288.36382476\n",
      "  274.48072104  184.32597849  149.33083225  228.30072495   51.17362518\n",
      "   46.18558887  209.8148107    49.61974905  136.8839362   124.70574857\n",
      "  312.78960405  312.72918528  155.64977794  397.02368352   77.51816918\n",
      "  359.01203839  195.47554591  202.34703681  325.18802883  265.95610591]\n",
      "[ 19.35467816  -4.25690507 -58.30114101 -42.4046997   25.40762514\n",
      " -15.21483902  31.49680526  -6.93390904  29.56122028  20.10399731\n",
      "  30.6652843  -19.48361815  12.55303421 -32.6173813  -24.86914151\n",
      "  24.66758288  25.97190411 -40.66031668  -1.25444138  -0.53054022\n",
      "   5.37670728  13.681531    24.53203096  -9.4131234   16.44860664\n",
      "  44.46278238 -17.57013103  14.58778006 -12.27076657   2.21276117\n",
      "  -4.68441562 -18.40983307  -6.26749712 -18.75033259 -15.48211675\n",
      "  26.79650412  33.00483449   0.5864459   -0.6424647   -9.11019186\n",
      " -31.78762204  17.07535407 -11.56097965  -2.90530811  -3.19982157\n",
      "  22.45255666  -4.06343226  36.36597623  34.32381571  15.27685105\n",
      "  38.7027842   14.63695225 -12.93480494   7.82995104  23.88463705\n",
      " -28.44451133  -8.92077839  15.16323338  23.83362277 -27.94641261\n",
      " -32.56588175 -15.52302352  -6.25632889   4.92979572  34.51720168\n",
      "  40.34264361  25.94799094  12.59578085  52.64373413 -23.66917096\n",
      " -18.33084862  33.1185488   -7.2859851   -3.80846509  10.33228699\n",
      " -11.39598015  39.25251832   9.99788474 -15.18990942 -23.75396948\n",
      "  12.80584967 -10.10193042   4.21554872  34.46386759 -13.48028063\n",
      "  -3.91351963 -56.87054597  -7.04239719 -34.92311962   9.08068631\n",
      " -31.44267863 -23.547401    39.48577231  10.5201173   12.36847291\n",
      " -16.08579103 -14.56448878 -29.24434395 -53.41220555 -29.4133435 ]\n"
     ]
    }
   ],
   "source": [
    "THETA0 = 25.0\n",
    "THETA1 = 4.0\n",
    "NOISE_SCALE = 25.0\n",
    "\n",
    "y_values = THETA0 + THETA1 * x_values\n",
    "noise_values = np.random.normal(scale = NOISE_SCALE, size = 100)\n",
    "y_values += noise_values\n",
    "\n",
    "print(\n",
    "    y_values\n",
    ")\n",
    "print(\n",
    "    noise_values\n",
    ")"
   ]
  },
  {
   "cell_type": "code",
   "execution_count": 12,
   "metadata": {
    "scrolled": true
   },
   "outputs": [
    {
     "data": {
      "text/plain": [
       "[<matplotlib.lines.Line2D at 0x118a71390>]"
      ]
     },
     "execution_count": 12,
     "metadata": {},
     "output_type": "execute_result"
    },
    {
     "data": {
      "image/png": "[encoded data removed]",
      "text/plain": [
       "<matplotlib.figure.Figure at 0x118a712b0>"
      ]
     },
     "metadata": {},
     "output_type": "display_data"
    }
   ],
   "source": [
    "%matplotlib inline\n",
    "\n",
    "import matplotlib.pyplot as plt\n",
    "\n",
    "plt.plot(\n",
    "    x_values,\n",
    "    y_values,\n",
    "    '.'\n",
    ")\n",
    "\n",
    "plt.plot(\n",
    "    np.arange(0, 100),\n",
    "    THETA0 + THETA1 * np.arange(0, 100),\n",
    "    '-',\n",
    ")\n"
   ]
  },
  {
   "cell_type": "markdown",
   "metadata": {},
   "source": [
    "\\\\[\n",
    "SSE(\\theta_0, \\theta_1)\n",
    "=\n",
    "\\sum_i \\left(y^i - \\hat{y}^i\\right)^2\n",
    "= \n",
    "\\sum_i \\left(y^i - \\left(\\theta_0 + \\theta_1 x^i\\right)\\right)^2\n",
    "\\\\]\n"
   ]
  },
  {
   "cell_type": "code",
   "execution_count": 15,
   "metadata": {},
   "outputs": [
    {
     "name": "stdout",
     "output_type": "stream",
     "text": [
      "24.1804368044\n"
     ]
    }
   ],
   "source": [
    "def sse(x_values, y_values, theta0, theta1):\n",
    "    yhat_values = theta0 + theta1 * x_values\n",
    "    errors = y_values - yhat_values\n",
    "    squared_errors = errors * errors\n",
    "    return np.sum(squared_errors)\n",
    "\n",
    "print(\n",
    "    np.sqrt(\n",
    "        sse(x_values, y_values, THETA0, THETA1) / len(x_values)\n",
    "    )\n",
    ")"
   ]
  },
  {
   "cell_type": "code",
   "execution_count": null,
   "metadata": {
    "collapsed": true
   },
   "outputs": [],
   "source": []
  }
 ],
 "metadata": {
  "kernelspec": {
   "display_name": "Python (default)",
   "language": "python",
   "name": "conda-default"
  },
  "language_info": {
   "codemirror_mode": {
    "name": "ipython",
    "version": 3
   },
   "file_extension": ".py",
   "mimetype": "text/x-python",
   "name": "python",
   "nbconvert_exporter": "python",
   "pygments_lexer": "ipython3",
   "version": "3.6.0"
  }
 },
 "nbformat": 4,
 "nbformat_minor": 2
}
