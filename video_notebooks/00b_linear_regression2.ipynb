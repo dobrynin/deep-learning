{
 "cells": [
  {
   "cell_type": "code",
   "execution_count": 15,
   "metadata": {},
   "outputs": [
    {
     "name": "stdout",
     "output_type": "stream",
     "text": [
      "[-0.50318426  0.02931737  0.18479143  0.45617446  0.61684148  0.4783779\n",
      " -0.35482061 -0.81923769  0.30738197 -0.1008155   0.35663846  0.3485146\n",
      " -0.47851725 -0.89892918 -0.93731786  0.93654012  0.26504362 -0.50002189\n",
      "  0.36643616 -0.44977733  0.48443005  0.3838785  -0.51335087 -0.6937595\n",
      "  0.92421096 -0.45593079 -0.27233778  0.97289238  0.59699606  0.01429924\n",
      "  0.07737261  0.99148752 -0.9092551   0.75640739 -0.35966261 -0.80625358\n",
      " -0.53949097 -0.85179788 -0.75217893 -0.0661172   0.44946026 -0.39709775\n",
      " -0.63178693 -0.45045616 -0.28475723  0.46415605 -0.22117716  0.00183688\n",
      "  0.09875668 -0.55340214]\n",
      "[-0.50318426  0.67800744  0.57177514 ..., -0.47754105  0.45266386\n",
      " -0.20923377]\n"
     ]
    }
   ],
   "source": [
    "import numpy as np\n",
    "\n",
    "NUM_EXAMPLES = 1001\n",
    "NUM_VARIABLES = 50\n",
    "\n",
    "# Data matrix: every column is an example.\n",
    "x_values = np.random.uniform(-1, 1, size = (NUM_VARIABLES, NUM_EXAMPLES))\n",
    "\n",
    "print(x_values[:, 0])\n",
    "print(x_values[0, :])"
   ]
  },
  {
   "cell_type": "code",
   "execution_count": 16,
   "metadata": {},
   "outputs": [
    {
     "name": "stdout",
     "output_type": "stream",
     "text": [
      "[  0.06387184   0.38058514   0.77259985   1.43413387   2.72887608\n",
      "   0.18079006   0.12118001   0.37576665  10.73672364   1.03572115\n",
      "   2.06165118   4.99776229   0.71451887   1.58152075   0.26662326\n",
      "   6.86912607   1.9733793    8.4845474    0.96740267   0.32037388\n",
      "   0.25914975   1.76352505   4.13125794   0.64091612  13.22103861\n",
      "   1.94254446   0.06286798   3.36984441   9.40108412   5.08582557\n",
      "   0.33740954   2.50562816   0.20286652   0.23685524   6.96278351\n",
      "   5.8369737    1.33951651   4.4707344    0.07526814   0.61023159\n",
      "  11.41130317   1.13323699   3.99707514   0.20855801   0.563698\n",
      "   0.10955369   0.0651474    8.70641788   0.51026326   6.46089602]\n"
     ]
    }
   ],
   "source": [
    "THETAS = 2 ** np.random.uniform(-4, 4, size = NUM_VARIABLES)\n",
    "print(THETAS)"
   ]
  },
  {
   "cell_type": "code",
   "execution_count": 17,
   "metadata": {},
   "outputs": [
    {
     "name": "stdout",
     "output_type": "stream",
     "text": [
      "(1001,)\n",
      "[ 0.10312914 -0.07553409 -1.044333   ..., -0.19049052 -1.23148877\n",
      "  0.35843829]\n"
     ]
    }
   ],
   "source": [
    "y_values = THETAS.dot(x_values)\n",
    "print(y_values.shape)\n",
    "noise_values = np.random.normal(size = NUM_EXAMPLES)\n",
    "y_values += noise_values\n",
    "print(noise_values)"
   ]
  },
  {
   "cell_type": "code",
   "execution_count": 49,
   "metadata": {},
   "outputs": [
    {
     "name": "stdout",
     "output_type": "stream",
     "text": [
      "1074.11338365\n",
      "1.03587660622\n"
     ]
    }
   ],
   "source": [
    "def sse(x_values, y_values, thetas):\n",
    "    yhat = thetas.dot(x_values)\n",
    "    errors = y_values - yhat\n",
    "    return np.sum(errors ** 2)\n",
    "\n",
    "def rmse(x_values, y_values, thetas):\n",
    "    return np.sqrt(\n",
    "        sse(x_values, y_values, thetas) / NUM_EXAMPLES\n",
    "    )\n",
    "\n",
    "print(sse(x_values, y_values, THETAS))\n",
    "print(rmse(x_values, y_values, THETAS))"
   ]
  },
  {
   "cell_type": "code",
   "execution_count": 82,
   "metadata": {},
   "outputs": [
    {
     "name": "stdout",
     "output_type": "stream",
     "text": [
      "45: 10.174482346060865\n",
      "90: 4.985541728869503\n",
      "135: 1.7095718161841837\n",
      "180: 1.0413867792786786\n",
      "225: 1.0403218291917518\n",
      "270: 1.0413867792786786\n",
      "315: 1.0403218291917518\n",
      "360: 1.0413867792786786\n",
      "405: 1.0403218291917518\n",
      "450: 1.0413867792786786\n"
     ]
    },
    {
     "data": {
      "text/plain": [
       "array([ -1.60000000e-01,   3.20000000e-01,   8.00000000e-01,\n",
       "         1.44000000e+00,   2.56000000e+00,   1.60000000e-01,\n",
       "         1.60000000e-01,   3.20000000e-01,   1.07200000e+01,\n",
       "         9.60000000e-01,   2.08000000e+00,   4.96000000e+00,\n",
       "         6.40000000e-01,   1.44000000e+00,   1.60000000e-01,\n",
       "         6.88000000e+00,   1.92000000e+00,   8.48000000e+00,\n",
       "         9.60000000e-01,   1.60000000e-01,   1.60000000e-01,\n",
       "         1.76000000e+00,   4.16000000e+00,   6.40000000e-01,\n",
       "         1.31200000e+01,   1.92000000e+00,   2.77555756e-17,\n",
       "         3.52000000e+00,   9.28000000e+00,   5.12000000e+00,\n",
       "         3.20000000e-01,   2.56000000e+00,   1.60000000e-01,\n",
       "         1.60000000e-01,   6.88000000e+00,   5.76000000e+00,\n",
       "         1.28000000e+00,   4.32000000e+00,   1.60000000e-01,\n",
       "         4.80000000e-01,   1.13600000e+01,   1.12000000e+00,\n",
       "         4.00000000e+00,   1.60000000e-01,   4.80000000e-01,\n",
       "         1.60000000e-01,  -2.77555756e-17,   8.80000000e+00,\n",
       "         4.80000000e-01,   6.40000000e+00])"
      ]
     },
     "execution_count": 82,
     "metadata": {},
     "output_type": "execute_result"
    }
   ],
   "source": [
    "DELTA = 0.08\n",
    "\n",
    "def update_thetas(x_values, y_values, thetas):\n",
    "    current_sse = sse(x_values, y_values, thetas)\n",
    "    \n",
    "    new_thetas = np.copy(thetas)\n",
    "    for idx in range(len(thetas)):\n",
    "        tweaked_thetas = np.copy(thetas)\n",
    "        tweaked_thetas[idx] += DELTA\n",
    "        tweaked_sse = sse(x_values, y_values, tweaked_thetas)\n",
    "        \n",
    "        if tweaked_sse < current_sse:\n",
    "            new_thetas[idx] += DELTA\n",
    "        else:\n",
    "            new_thetas[idx] -= DELTA\n",
    "            \n",
    "    return new_thetas\n",
    "\n",
    "STEPS = 450\n",
    "def run_optimization(x_values, y_values):\n",
    "    thetas = np.zeros(NUM_VARIABLES)\n",
    "    \n",
    "    for step_idx in range(1, 1 + STEPS):\n",
    "        thetas = update_thetas(x_values, y_values, thetas)\n",
    "        if step_idx % (STEPS // 10) == 0:\n",
    "            current_rmse = rmse(x_values, y_values, thetas)\n",
    "            print(\n",
    "                f\"{step_idx}: {current_rmse}\"\n",
    "            )\n",
    "\n",
    "    return thetas\n",
    "\n",
    "run_optimization(x_values, y_values)"
   ]
  },
  {
   "cell_type": "markdown",
   "metadata": {},
   "source": [
    "\\\\[\n",
    "\\newcommand{\\fpartial}[2]{\\frac{\\partial #1}{\\partial #2}}\n",
    "\\\\]\n",
    "\n",
    "\\\\[\n",
    "E(\\theta) = \\sum_i \\left(y - (\\theta \\cdot X^i ) \\right)^2\n",
    "\\\\]\n",
    "\n",
    "\\\\[\n",
    "\\begin{align}\n",
    "\\fpartial{E}{\\theta_k}(\\theta)\n",
    "&=\n",
    "\\sum_i \\fpartial{}{\\theta_k} \\left(y - (\\theta \\cdot x^i ) \\right)^2\n",
    "\\\\\n",
    "&=\n",
    "\\sum_i\n",
    "    2 \\left(y - (\\theta \\cdot x^i ) \\right)\n",
    "    \\fpartial{}{\\theta_k}\n",
    "    \\left(y - (\\theta \\cdot x^i ) \\right)\n",
    "\\\\\n",
    "&=\n",
    "\\sum_i\n",
    "    2 \\left(y - (\\theta \\cdot x^i ) \\right)\n",
    "    \\fpartial{}{\\theta_k}\n",
    "    -(\\theta \\cdot X^i )\n",
    "\\\\\n",
    "&=\n",
    "\\sum_i\n",
    "    -2 \\left(y - (\\theta \\cdot x^i ) \\right)\n",
    "    \\fpartial{}{\\theta_k}\n",
    "    \\left(\\sum_j \\theta_j x_j^i \\right)\n",
    "\\\\\n",
    "&=\n",
    "\\sum_i\n",
    "    -2 \\left(y - (\\theta \\cdot x^i ) \\right)\n",
    "    x_k^i\n",
    "\\end{align}\n",
    "\\\\]"
   ]
  },
  {
   "cell_type": "code",
   "execution_count": 77,
   "metadata": {},
   "outputs": [
    {
     "data": {
      "text/plain": [
       "array([  59.78523212,   36.92046328,    6.99041219,  -19.18063894,\n",
       "         36.41015139,  -28.68985217,  -29.74567728,   -7.84728838,\n",
       "        -20.68789247,   12.91736368,  -38.15450486,   22.58997552,\n",
       "         -9.81887996,   15.30460682,   48.80971006,    3.96747721,\n",
       "         12.21902604,   23.04519818,  -36.55295549,  104.55306972,\n",
       "        -17.67910267,    6.12105184,  -53.37749487,   18.52930569,\n",
       "         65.00593559,   24.15237124,  -27.35949743,  -94.74624476,\n",
       "         -1.89111642,  -40.71113724,   22.27095651,  -28.59608929,\n",
       "        -24.89508114,   56.11465065,   27.33674689,  -26.25200144,\n",
       "        -16.89248585,   57.69861795,  -48.06300362,   -5.41148058,\n",
       "         12.2619401 ,  -19.17453671,  -46.84942859,   -3.36862671,\n",
       "         55.32514067,  -61.53627844,   24.23050525,  -48.86020943,\n",
       "        -11.34301956,    7.23169006])"
      ]
     },
     "execution_count": 77,
     "metadata": {},
     "output_type": "execute_result"
    }
   ],
   "source": [
    "def partials(x_values, y_values, thetas):\n",
    "    yhat = thetas.dot(x_values)\n",
    "    errors = y_values - yhat\n",
    "    \n",
    "    return np.sum(\n",
    "        -2 * errors.reshape((1, NUM_EXAMPLES)) * x_values,\n",
    "        axis = 1\n",
    "    )\n"
   ]
  },
  {
   "cell_type": "code",
   "execution_count": 81,
   "metadata": {},
   "outputs": [
    {
     "name": "stdout",
     "output_type": "stream",
     "text": [
      "1: 6.643965836644658\n",
      "2: 3.263574410388885\n",
      "3: 1.8900733284318514\n",
      "4: 1.3229752245821522\n",
      "5: 1.1119035390745269\n",
      "6: 1.0411979574652133\n",
      "7: 1.0186521824568133\n",
      "8: 1.0115394604354162\n",
      "9: 1.009288186099155\n",
      "10: 1.008571043916952\n",
      "11: 1.0083411511762412\n",
      "12: 1.0082670447617372\n",
      "13: 1.0082430413047667\n",
      "14: 1.0082352336037423\n",
      "15: 1.0082326843685208\n"
     ]
    }
   ],
   "source": [
    "GD_STEPS = 15\n",
    "LEARNING_RATE = 0.001\n",
    "def run_gd_optimization(x_values, y_values):\n",
    "    thetas = np.zeros(NUM_VARIABLES)\n",
    "    for step_idx in range(1, 1 + GD_STEPS):\n",
    "        ps = partials(x_values, y_values, thetas)\n",
    "        thetas = thetas - LEARNING_RATE * ps\n",
    "        \n",
    "        if step_idx % (GD_STEPS // 10) == 0:\n",
    "            current_rmse = rmse(x_values, y_values, thetas)\n",
    "            print(\n",
    "                f\"{step_idx}: {current_rmse}\"\n",
    "            )\n",
    "            \n",
    "run_gd_optimization(x_values, y_values)"
   ]
  },
  {
   "cell_type": "code",
   "execution_count": null,
   "metadata": {
    "collapsed": true
   },
   "outputs": [],
   "source": []
  }
 ],
 "metadata": {
  "kernelspec": {
   "display_name": "Python (default)",
   "language": "python",
   "name": "conda-default"
  },
  "language_info": {
   "codemirror_mode": {
    "name": "ipython",
    "version": 3
   },
   "file_extension": ".py",
   "mimetype": "text/x-python",
   "name": "python",
   "nbconvert_exporter": "python",
   "pygments_lexer": "ipython3",
   "version": "3.6.0"
  }
 },
 "nbformat": 4,
 "nbformat_minor": 2
}
