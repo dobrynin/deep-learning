{
 "cells": [
  {
   "cell_type": "code",
   "execution_count": 15,
   "metadata": {},
   "outputs": [
    {
     "name": "stdout",
     "output_type": "stream",
     "text": [
      "[-0.50318426  0.02931737  0.18479143  0.45617446  0.61684148  0.4783779\n",
      " -0.35482061 -0.81923769  0.30738197 -0.1008155   0.35663846  0.3485146\n",
      " -0.47851725 -0.89892918 -0.93731786  0.93654012  0.26504362 -0.50002189\n",
      "  0.36643616 -0.44977733  0.48443005  0.3838785  -0.51335087 -0.6937595\n",
      "  0.92421096 -0.45593079 -0.27233778  0.97289238  0.59699606  0.01429924\n",
      "  0.07737261  0.99148752 -0.9092551   0.75640739 -0.35966261 -0.80625358\n",
      " -0.53949097 -0.85179788 -0.75217893 -0.0661172   0.44946026 -0.39709775\n",
      " -0.63178693 -0.45045616 -0.28475723  0.46415605 -0.22117716  0.00183688\n",
      "  0.09875668 -0.55340214]\n",
      "[-0.50318426  0.67800744  0.57177514 ..., -0.47754105  0.45266386\n",
      " -0.20923377]\n"
     ]
    }
   ],
   "source": [
    "import numpy as np\n",
    "\n",
    "NUM_EXAMPLES = 1001\n",
    "NUM_VARIABLES = 50\n",
    "\n",
    "# Data matrix: every column is an example.\n",
    "x_values = np.random.uniform(-1, 1, size = (NUM_VARIABLES, NUM_EXAMPLES))\n",
    "\n",
    "print(x_values[:, 0])\n",
    "print(x_values[0, :])"
   ]
  },
  {
   "cell_type": "code",
   "execution_count": 16,
   "metadata": {},
   "outputs": [
    {
     "name": "stdout",
     "output_type": "stream",
     "text": [
      "[  0.06387184   0.38058514   0.77259985   1.43413387   2.72887608\n",
      "   0.18079006   0.12118001   0.37576665  10.73672364   1.03572115\n",
      "   2.06165118   4.99776229   0.71451887   1.58152075   0.26662326\n",
      "   6.86912607   1.9733793    8.4845474    0.96740267   0.32037388\n",
      "   0.25914975   1.76352505   4.13125794   0.64091612  13.22103861\n",
      "   1.94254446   0.06286798   3.36984441   9.40108412   5.08582557\n",
      "   0.33740954   2.50562816   0.20286652   0.23685524   6.96278351\n",
      "   5.8369737    1.33951651   4.4707344    0.07526814   0.61023159\n",
      "  11.41130317   1.13323699   3.99707514   0.20855801   0.563698\n",
      "   0.10955369   0.0651474    8.70641788   0.51026326   6.46089602]\n"
     ]
    }
   ],
   "source": [
    "THETAS = 2 ** np.random.uniform(-4, 4, size = NUM_VARIABLES)\n",
    "print(THETAS)"
   ]
  },
  {
   "cell_type": "code",
   "execution_count": 17,
   "metadata": {},
   "outputs": [
    {
     "name": "stdout",
     "output_type": "stream",
     "text": [
      "(1001,)\n",
      "[ 0.10312914 -0.07553409 -1.044333   ..., -0.19049052 -1.23148877\n",
      "  0.35843829]\n"
     ]
    }
   ],
   "source": [
    "y_values = THETAS.dot(x_values)\n",
    "print(y_values.shape)\n",
    "noise_values = np.random.normal(size = NUM_EXAMPLES)\n",
    "y_values += noise_values\n",
    "print(noise_values)"
   ]
  },
  {
   "cell_type": "code",
   "execution_count": 18,
   "metadata": {},
   "outputs": [
    {
     "name": "stdout",
     "output_type": "stream",
     "text": [
      "1074.11338365\n",
      "1.03587660622\n"
     ]
    }
   ],
   "source": [
    "def sse(x_values, y_values, thetas):\n",
    "    yhat = thetas.dot(x_values)\n",
    "    errors = y_values - yhat\n",
    "    return np.sum(errors ** 2)\n",
    "\n",
    "def rmse(x_values, y_values, thetas):\n",
    "    return np.sqrt(\n",
    "        sse(x_values, y_values, thetas) / NUM_EXAMPLES\n",
    "    )\n",
    "\n",
    "print(sse(x_values, y_values, THETAS))\n",
    "print(rmse(x_values, y_values, THETAS))"
   ]
  },
  {
   "cell_type": "code",
   "execution_count": null,
   "metadata": {
    "collapsed": true
   },
   "outputs": [],
   "source": []
  }
 ],
 "metadata": {
  "kernelspec": {
   "display_name": "Python (default)",
   "language": "python",
   "name": "conda-default"
  },
  "language_info": {
   "codemirror_mode": {
    "name": "ipython",
    "version": 3
   },
   "file_extension": ".py",
   "mimetype": "text/x-python",
   "name": "python",
   "nbconvert_exporter": "python",
   "pygments_lexer": "ipython3",
   "version": "3.6.0"
  }
 },
 "nbformat": 4,
 "nbformat_minor": 2
}
