{
 "cells": [
  {
   "cell_type": "code",
   "execution_count": 89,
   "metadata": {},
   "outputs": [
    {
     "data": {
      "text/plain": [
       "array([  1.70263007e-01,   9.46986120e-01,   9.89577348e-01,\n",
       "         7.26733198e-01,   3.16498620e-01,   4.42232818e-01,\n",
       "         4.10217561e-01,   1.64643824e-01,   8.37599568e-01,\n",
       "         2.10147902e-01,   1.30010261e-01,   8.01465933e-03,\n",
       "         2.84911622e-01,   8.79462928e-01,   2.04631240e-01,\n",
       "         2.68946367e-01,   2.87745125e-02,   4.31485290e-01,\n",
       "         9.06333639e-01,   3.33421741e-01,   3.76234322e-01,\n",
       "         7.40781442e-01,   8.23760496e-01,   6.75325195e-03,\n",
       "         2.10750370e-01,   2.13114213e-01,   6.48670682e-01,\n",
       "         3.79568180e-01,   4.79532926e-01,   9.62336967e-01,\n",
       "         4.25368995e-01,   6.18741197e-01,   8.01003392e-01,\n",
       "         7.05202828e-01,   5.03272532e-01,   4.21017261e-01,\n",
       "         7.80614045e-01,   7.74541730e-02,   6.57127004e-01,\n",
       "         2.80893502e-01,   3.48215196e-01,   8.84068756e-01,\n",
       "         2.16604098e-01,   4.80754573e-01,   2.38859850e-01,\n",
       "         2.51300263e-01,   6.41001178e-01,   8.50439086e-01,\n",
       "         9.73603535e-02,   4.80961889e-01,   6.38678363e-01,\n",
       "         7.02975855e-01,   8.31230721e-04,   5.74524799e-01,\n",
       "         5.66952443e-01,   3.51339983e-01,   5.70939256e-01,\n",
       "         6.56549212e-01,   6.25642486e-01,   5.62710002e-01,\n",
       "         6.14630060e-01,   9.33683781e-01,   2.36850909e-01,\n",
       "         4.57488782e-01,   2.77936957e-01,   9.48394597e-01,\n",
       "         7.18675864e-01,   2.44028830e-02,   8.45559674e-01,\n",
       "         2.47953501e-01,   7.53450659e-01,   3.53072328e-01,\n",
       "         7.31205997e-01,   4.53404503e-01,   4.96721961e-01,\n",
       "         4.99428727e-02,   3.93547287e-01,   6.08020299e-01,\n",
       "         4.81474973e-02,   6.02015136e-02,   8.91884976e-01,\n",
       "         8.95558888e-01,   8.47838573e-01,   4.46434015e-01,\n",
       "         7.46860451e-01,   9.96679336e-01,   9.75700385e-01,\n",
       "         5.38383518e-01,   6.58393243e-01,   6.32914554e-01,\n",
       "         8.75796179e-01,   4.50592977e-01,   6.00305502e-01,\n",
       "         7.92213227e-01,   4.56579033e-01,   1.30434223e-01,\n",
       "         3.65406069e-02,   6.08227004e-01,   8.90512902e-01,\n",
       "         7.94765094e-01])"
      ]
     },
     "execution_count": 89,
     "metadata": {},
     "output_type": "execute_result"
    }
   ],
   "source": [
    "import numpy as np\n",
    "\n",
    "x_values = np.random.uniform(0, 1.0, size = (100, 100))\n",
    "x_values[0, :]"
   ]
  },
  {
   "cell_type": "code",
   "execution_count": 94,
   "metadata": {},
   "outputs": [
    {
     "name": "stdout",
     "output_type": "stream",
     "text": [
      "[  5.74574054   4.82422001   0.53860842   0.41146175   2.31936824\n",
      "   5.47963782   0.13547114   0.22953736  10.23752646   3.18715272\n",
      "   0.19665087   1.18660335   0.09538552   0.17406226   0.48105072\n",
      "   0.14367187   0.58810015   0.48050413   0.2659979    0.34457091\n",
      "   0.13098494   5.61336873   1.67648365  15.25383852   2.79170438\n",
      "   7.1927544    0.48167103   0.07630191   9.30972495   0.25470224\n",
      "   0.72382738   6.03537376   0.31071429   2.93786874   2.20090459\n",
      "   0.22590479   0.13314344   8.02799458   0.84378561   0.1255403\n",
      "   0.3178777    0.24414409   0.39191525   4.85621447   0.10654584\n",
      "   0.37236342   4.86886106   0.81758248   0.17149922  11.94646419\n",
      "   4.12077941   0.08968385   0.37850987   1.15769705   0.09913275\n",
      "   0.1887891    1.38800159  13.37175723   0.31727725   0.08235317\n",
      "   0.09500269   3.07058611   0.55809421   0.07500696   0.06940712\n",
      "   0.0965854    0.07824773   0.44010141   7.27369598   5.54023802\n",
      "  12.6406731    1.07850787   0.28348365   7.69945947   0.24014311\n",
      "   5.44927497   2.63503016   2.85120686   0.09556731   0.32638845\n",
      "   7.58058893  12.41952177   0.69758731   1.07564768   0.32226832\n",
      "   2.91179623   1.26039213   4.9182238    1.67639384   0.13238753\n",
      "   2.39570745   0.07857051   0.10972649   0.66168733   0.06958065\n",
      "   0.3099472    4.93582309   5.68414229   1.65256113   0.10319201]\n",
      "(100,)\n"
     ]
    }
   ],
   "source": [
    "THETAS = 2 ** np.random.uniform(-4, 4, size = 100)\n",
    "print(THETAS)\n",
    "\n",
    "y_values = THETAS.dot(x_values)\n",
    "print(y_values.shape)\n",
    "noises = np.random.normal(scale = 1.0, size = 100)\n",
    "y_values += noises"
   ]
  },
  {
   "cell_type": "code",
   "execution_count": 95,
   "metadata": {},
   "outputs": [
    {
     "name": "stdout",
     "output_type": "stream",
     "text": [
      "111.258931211\n",
      "1.05479349264\n"
     ]
    }
   ],
   "source": [
    "def sse(x_values, y_values, thetas):\n",
    "    yhat_values = thetas.dot(x_values)\n",
    "    errors = y_values - yhat_values\n",
    "    squared_errors = errors * errors\n",
    "    return np.sum(squared_errors)\n",
    "\n",
    "def rmse(x_values, y_values, thetas):\n",
    "    return np.sqrt(\n",
    "        sse(x_values, y_values, thetas) / x_values.shape[0]\n",
    "    )\n",
    "\n",
    "print(\n",
    "    sse(x_values, y_values, THETAS)\n",
    ")\n",
    "print(\n",
    "    rmse(x_values, y_values, THETAS)\n",
    ")"
   ]
  },
  {
   "cell_type": "code",
   "execution_count": 96,
   "metadata": {},
   "outputs": [
    {
     "data": {
      "text/plain": [
       "array([ 0.0025,  0.0025,  0.0025,  0.0025,  0.0025,  0.0025,  0.0025,\n",
       "        0.0025,  0.0025,  0.0025,  0.0025,  0.0025,  0.0025,  0.0025,\n",
       "        0.0025,  0.0025,  0.0025,  0.0025,  0.0025,  0.0025,  0.0025,\n",
       "        0.0025,  0.0025,  0.0025,  0.0025,  0.0025,  0.0025,  0.0025,\n",
       "        0.0025,  0.0025,  0.0025,  0.0025,  0.0025,  0.0025,  0.0025,\n",
       "        0.0025,  0.0025,  0.0025,  0.0025,  0.0025,  0.0025,  0.0025,\n",
       "        0.0025,  0.0025,  0.0025,  0.0025,  0.0025,  0.0025,  0.0025,\n",
       "        0.0025,  0.0025,  0.0025,  0.0025,  0.0025,  0.0025,  0.0025,\n",
       "        0.0025,  0.0025,  0.0025,  0.0025,  0.0025,  0.0025,  0.0025,\n",
       "        0.0025,  0.0025,  0.0025,  0.0025,  0.0025,  0.0025,  0.0025,\n",
       "        0.0025,  0.0025,  0.0025,  0.0025,  0.0025,  0.0025,  0.0025,\n",
       "        0.0025,  0.0025,  0.0025,  0.0025,  0.0025,  0.0025,  0.0025,\n",
       "        0.0025,  0.0025,  0.0025,  0.0025,  0.0025,  0.0025,  0.0025,\n",
       "        0.0025,  0.0025,  0.0025,  0.0025,  0.0025,  0.0025,  0.0025,\n",
       "        0.0025,  0.0025])"
      ]
     },
     "execution_count": 96,
     "metadata": {},
     "output_type": "execute_result"
    }
   ],
   "source": [
    "DELTA = 0.0025\n",
    "\n",
    "def update_thetas(x_values, y_values, thetas):\n",
    "    current_sse = sse(x_values, y_values, thetas)\n",
    "    \n",
    "    new_thetas = np.copy(thetas)\n",
    "\n",
    "    for idx in range(len(new_thetas)):\n",
    "        tweaked_thetas = np.copy(thetas)\n",
    "        tweaked_thetas[idx] += DELTA\n",
    "        tweaked_sse = sse(x_values, y_values, tweaked_thetas)\n",
    "        if tweaked_sse < current_sse:\n",
    "            new_thetas[idx] += DELTA\n",
    "        else:\n",
    "            new_thetas[idx] -= DELTA\n",
    "\n",
    "    return new_thetas\n",
    "\n",
    "update_thetas(x_values, y_values, np.zeros(shape = THETAS.shape))"
   ]
  },
  {
   "cell_type": "code",
   "execution_count": 97,
   "metadata": {},
   "outputs": [
    {
     "name": "stdout",
     "output_type": "stream",
     "text": [
      "0: 124.67\n",
      "1000: 10.55\n",
      "2000: 4.47\n",
      "3000: 1.85\n",
      "4000: 1.54\n",
      "5000: 1.54\n",
      "6000: 1.54\n"
     ]
    },
    {
     "ename": "KeyboardInterrupt",
     "evalue": "",
     "output_type": "error",
     "traceback": [
      "\u001b[0;31m---------------------------------------------------------------------------\u001b[0m",
      "\u001b[0;31mKeyboardInterrupt\u001b[0m                         Traceback (most recent call last)",
      "\u001b[0;32m<ipython-input-97-8616170bd7bf>\u001b[0m in \u001b[0;36m<module>\u001b[0;34m()\u001b[0m\n\u001b[1;32m      9\u001b[0m     \u001b[0;32mreturn\u001b[0m \u001b[0mthetas\u001b[0m\u001b[0;34m\u001b[0m\u001b[0m\n\u001b[1;32m     10\u001b[0m \u001b[0;34m\u001b[0m\u001b[0m\n\u001b[0;32m---> 11\u001b[0;31m \u001b[0mrun_optimization\u001b[0m\u001b[0;34m(\u001b[0m\u001b[0mx_values\u001b[0m\u001b[0;34m,\u001b[0m \u001b[0my_values\u001b[0m\u001b[0;34m,\u001b[0m \u001b[0mnp\u001b[0m\u001b[0;34m.\u001b[0m\u001b[0mzeros\u001b[0m\u001b[0;34m(\u001b[0m\u001b[0mTHETAS\u001b[0m\u001b[0;34m.\u001b[0m\u001b[0mshape\u001b[0m\u001b[0;34m)\u001b[0m\u001b[0;34m)\u001b[0m\u001b[0;34m\u001b[0m\u001b[0m\n\u001b[0m",
      "\u001b[0;32m<ipython-input-97-8616170bd7bf>\u001b[0m in \u001b[0;36mrun_optimization\u001b[0;34m(x_values, y_values, thetas)\u001b[0m\n\u001b[1;32m      1\u001b[0m \u001b[0;32mdef\u001b[0m \u001b[0mrun_optimization\u001b[0m\u001b[0;34m(\u001b[0m\u001b[0mx_values\u001b[0m\u001b[0;34m,\u001b[0m \u001b[0my_values\u001b[0m\u001b[0;34m,\u001b[0m \u001b[0mthetas\u001b[0m\u001b[0;34m)\u001b[0m\u001b[0;34m:\u001b[0m\u001b[0;34m\u001b[0m\u001b[0m\n\u001b[1;32m      2\u001b[0m     \u001b[0;32mfor\u001b[0m \u001b[0mstep_idx\u001b[0m \u001b[0;32min\u001b[0m \u001b[0mrange\u001b[0m\u001b[0;34m(\u001b[0m\u001b[0;36m10000\u001b[0m\u001b[0;34m)\u001b[0m\u001b[0;34m:\u001b[0m\u001b[0;34m\u001b[0m\u001b[0m\n\u001b[0;32m----> 3\u001b[0;31m         \u001b[0mthetas\u001b[0m \u001b[0;34m=\u001b[0m \u001b[0mupdate_thetas\u001b[0m\u001b[0;34m(\u001b[0m\u001b[0mx_values\u001b[0m\u001b[0;34m,\u001b[0m \u001b[0my_values\u001b[0m\u001b[0;34m,\u001b[0m \u001b[0mthetas\u001b[0m\u001b[0;34m)\u001b[0m\u001b[0;34m\u001b[0m\u001b[0m\n\u001b[0m\u001b[1;32m      4\u001b[0m         \u001b[0mcurrent_rmse\u001b[0m \u001b[0;34m=\u001b[0m \u001b[0mrmse\u001b[0m\u001b[0;34m(\u001b[0m\u001b[0mx_values\u001b[0m\u001b[0;34m,\u001b[0m \u001b[0my_values\u001b[0m\u001b[0;34m,\u001b[0m \u001b[0mthetas\u001b[0m\u001b[0;34m)\u001b[0m\u001b[0;34m\u001b[0m\u001b[0m\n\u001b[1;32m      5\u001b[0m \u001b[0;34m\u001b[0m\u001b[0m\n",
      "\u001b[0;32m<ipython-input-96-daa8396c8679>\u001b[0m in \u001b[0;36mupdate_thetas\u001b[0;34m(x_values, y_values, thetas)\u001b[0m\n\u001b[1;32m      9\u001b[0m         \u001b[0mtweaked_thetas\u001b[0m \u001b[0;34m=\u001b[0m \u001b[0mnp\u001b[0m\u001b[0;34m.\u001b[0m\u001b[0mcopy\u001b[0m\u001b[0;34m(\u001b[0m\u001b[0mthetas\u001b[0m\u001b[0;34m)\u001b[0m\u001b[0;34m\u001b[0m\u001b[0m\n\u001b[1;32m     10\u001b[0m         \u001b[0mtweaked_thetas\u001b[0m\u001b[0;34m[\u001b[0m\u001b[0midx\u001b[0m\u001b[0;34m]\u001b[0m \u001b[0;34m+=\u001b[0m \u001b[0mDELTA\u001b[0m\u001b[0;34m\u001b[0m\u001b[0m\n\u001b[0;32m---> 11\u001b[0;31m         \u001b[0mtweaked_sse\u001b[0m \u001b[0;34m=\u001b[0m \u001b[0msse\u001b[0m\u001b[0;34m(\u001b[0m\u001b[0mx_values\u001b[0m\u001b[0;34m,\u001b[0m \u001b[0my_values\u001b[0m\u001b[0;34m,\u001b[0m \u001b[0mtweaked_thetas\u001b[0m\u001b[0;34m)\u001b[0m\u001b[0;34m\u001b[0m\u001b[0m\n\u001b[0m\u001b[1;32m     12\u001b[0m         \u001b[0;32mif\u001b[0m \u001b[0mtweaked_sse\u001b[0m \u001b[0;34m<\u001b[0m \u001b[0mcurrent_sse\u001b[0m\u001b[0;34m:\u001b[0m\u001b[0;34m\u001b[0m\u001b[0m\n\u001b[1;32m     13\u001b[0m             \u001b[0mnew_thetas\u001b[0m\u001b[0;34m[\u001b[0m\u001b[0midx\u001b[0m\u001b[0;34m]\u001b[0m \u001b[0;34m+=\u001b[0m \u001b[0mDELTA\u001b[0m\u001b[0;34m\u001b[0m\u001b[0m\n",
      "\u001b[0;32m<ipython-input-95-537ffd840dd3>\u001b[0m in \u001b[0;36msse\u001b[0;34m(x_values, y_values, thetas)\u001b[0m\n\u001b[1;32m      1\u001b[0m \u001b[0;32mdef\u001b[0m \u001b[0msse\u001b[0m\u001b[0;34m(\u001b[0m\u001b[0mx_values\u001b[0m\u001b[0;34m,\u001b[0m \u001b[0my_values\u001b[0m\u001b[0;34m,\u001b[0m \u001b[0mthetas\u001b[0m\u001b[0;34m)\u001b[0m\u001b[0;34m:\u001b[0m\u001b[0;34m\u001b[0m\u001b[0m\n\u001b[0;32m----> 2\u001b[0;31m     \u001b[0myhat_values\u001b[0m \u001b[0;34m=\u001b[0m \u001b[0mthetas\u001b[0m\u001b[0;34m.\u001b[0m\u001b[0mdot\u001b[0m\u001b[0;34m(\u001b[0m\u001b[0mx_values\u001b[0m\u001b[0;34m)\u001b[0m\u001b[0;34m\u001b[0m\u001b[0m\n\u001b[0m\u001b[1;32m      3\u001b[0m     \u001b[0merrors\u001b[0m \u001b[0;34m=\u001b[0m \u001b[0my_values\u001b[0m \u001b[0;34m-\u001b[0m \u001b[0myhat_values\u001b[0m\u001b[0;34m\u001b[0m\u001b[0m\n\u001b[1;32m      4\u001b[0m     \u001b[0msquared_errors\u001b[0m \u001b[0;34m=\u001b[0m \u001b[0merrors\u001b[0m \u001b[0;34m*\u001b[0m \u001b[0merrors\u001b[0m\u001b[0;34m\u001b[0m\u001b[0m\n\u001b[1;32m      5\u001b[0m     \u001b[0;32mreturn\u001b[0m \u001b[0mnp\u001b[0m\u001b[0;34m.\u001b[0m\u001b[0msum\u001b[0m\u001b[0;34m(\u001b[0m\u001b[0msquared_errors\u001b[0m\u001b[0;34m)\u001b[0m\u001b[0;34m\u001b[0m\u001b[0m\n",
      "\u001b[0;31mKeyboardInterrupt\u001b[0m: "
     ]
    }
   ],
   "source": [
    "DELTA = 0.01\n",
    "\n",
    "def update_thetas(x_values, y_values, thetas):\n",
    "    current_sse = sse(x_values, y_values, thetas)\n",
    "    \n",
    "    new_thetas = np.copy(thetas)\n",
    "    for idx in range(len(thetas)):\n",
    "        tweaked_thetas = np.copy(thetas)\n",
    "        tweaked_thetas[idx] += DELTA\n",
    "        tweaked_sse = sse(x_values, y_values, tweaked_thetas)\n",
    "        \n",
    "        if tweaked_sse < current_sse:\n",
    "            new_thetas[idx] += DELTA\n",
    "        else:\n",
    "            new_thetas[idx] -= DELTA\n",
    "            \n",
    "    return new_thetas\n",
    "\n",
    "STEPS = 1000\n",
    "PRINT_STEPS = 100\n",
    "def run_optimization(x_values, y_values, thetas):\n",
    "    for step_idx in range(1, STEPS + 1):\n",
    "        thetas = update_thetas(x_values, y_values, thetas)\n",
    "        current_rmse = rmse(x_values, y_values, thetas)\n",
    "        if step_idx % PRINT_STEPS == 0:\n",
    "            print(\n",
    "                f\"{step_idx}: {current_rmse:0.2f}\"\n",
    "            )\n",
    "\n",
    "run_optimization(x_values, y_values, np.zeros_like(THETAS))"
   ]
  },
  {
   "cell_type": "code",
   "execution_count": null,
   "metadata": {
    "collapsed": true
   },
   "outputs": [],
   "source": [
    "def partials(x_values, y_values, thetas):\n",
    "    yhat = thetas.dot(x_values)\n",
    "    errors = y_values - yhat\n",
    "    return 2 * np.sum(\n",
    "        errors.reshape((1, x_values.shape[1])) * -x_values,\n",
    "        axis = 1\n",
    "    )\n",
    "\n",
    "def partials(x_values, y_values, thetas):\n",
    "    yhat = thetas.dot(x_values)\n",
    "    errors = y_values - yhat\n",
    "    \n",
    "#     ps = np.zeros_like(thetas)\n",
    "#     for idx in range(len(thetas)):\n",
    "#         ps[idx] = np.sum(-2 * errors * x_values[idx, :])\n",
    "#     return ps\n",
    "\n",
    "    return np.sum(\n",
    "        -2 * errors.reshape((1, NUM_EXAMPLES)) * x_values,\n",
    "        axis = 1\n",
    "    )\n",
    "\n",
    "ps = partials(x_values, y_values, np.zeros_like(THETAS))\n",
    "print(\n",
    "    ps.shape\n",
    ")\n",
    "\n",
    "LEARNING_RATE = 0.00025\n",
    "def gd_update_thetas(x_values, y_values, thetas):\n",
    "    return thetas - LEARNING_RATE * partials(x_values, y_values, thetas)\n",
    "\n",
    "GD_STEPS = 150\n",
    "def run_gd_optimization(x_values, y_values, thetas):\n",
    "    for step_idx in range(1, 1 + GD_STEPS):\n",
    "        thetas = gd_update_thetas(x_values, y_values, thetas)\n",
    "        current_rmse = rmse(x_values, y_values, thetas)\n",
    "\n",
    "        if step_idx % (GD_STEPS // 10) == 0 :\n",
    "            print(f\"{step_idx}: {current_rmse:0.2f}\")\n",
    "        \n",
    "    return thetas\n",
    "\n",
    "print(\n",
    "    rmse(x_values, y_values, np.zeros(THETAS.shape))\n",
    ")\n",
    "run_gd_optimization(x_values, y_values, np.zeros(THETAS.shape))"
   ]
  }
 ],
 "metadata": {
  "kernelspec": {
   "display_name": "Python (default)",
   "language": "python",
   "name": "conda-default"
  },
  "language_info": {
   "codemirror_mode": {
    "name": "ipython",
    "version": 3
   },
   "file_extension": ".py",
   "mimetype": "text/x-python",
   "name": "python",
   "nbconvert_exporter": "python",
   "pygments_lexer": "ipython3",
   "version": "3.6.0"
  }
 },
 "nbformat": 4,
 "nbformat_minor": 2
}
