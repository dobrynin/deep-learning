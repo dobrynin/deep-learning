{
 "cells": [
  {
   "cell_type": "markdown",
   "metadata": {},
   "source": [
    "\\\\[\n",
    "\\newcommand{\\card}[1]{\\left\\lvert#1\\right\\rvert}\n",
    "\\newcommand{\\condbar}[0]{\\,\\big|\\,}\n",
    "\\newcommand{\\eprob}[1]{\\widehat{\\text{Pr}}\\left[#1\\right]}\n",
    "\\newcommand{\\norm}[1]{\\left\\lvert\\left\\lvert#1\\right\\rvert\\right\\rvert}\n",
    "\\newcommand{\\prob}[1]{\\text{Pr}\\left[#1\\right]}\n",
    "\\newcommand{\\pprob}[2]{\\text{Pr}_{#1}\\left[#2\\right]}\n",
    "\\newcommand{\\set}[1]{\\left\\{#1\\right\\}}\n",
    "\\newcommand{\\fpartial}[2]{\\frac{\\partial #1}{\\partial #2}}\n",
    "\\\\]\n",
    "\n",
    "\\\\[\n",
    "y = \\theta \\cdot x + \\mathcal{N}(0, \\sigma^2)\n",
    "\\\\]\n",
    "\n",
    "\\\\[\n",
    "\\begin{align}\n",
    "    \\pprob{\\theta}{Y = y \\condbar X = x}\n",
    "&=\n",
    "    \\mathcal{N}(y - \\theta \\cdot x, \\sigma^ 2)\n",
    "\\\\\n",
    "    \\pprob{\\theta}{Y = y \\condbar X = x}\n",
    "&=\n",
    "    \\frac{1}{\\sqrt{2\\pi\\sigma^2}}\n",
    "    e^{\n",
    "            -\\left(y - \\theta \\cdot x\\right)^2\n",
    "        /\n",
    "            2\\sigma^2\n",
    "    }\n",
    "\\\\\n",
    "    \\log\\pprob{\\theta}{Y = y \\condbar X = x}\n",
    "&=\n",
    "    \\log\n",
    "    \\frac{1}{\\sqrt{2\\pi\\sigma^2}}\n",
    "    e^{\n",
    "            -\\left(y - \\theta \\cdot x\\right)^2\n",
    "        /\n",
    "            2\\sigma^2\n",
    "    }\n",
    "\\\\\n",
    "&=\n",
    "\\log \\frac{1}{\\sqrt{2\\pi\\sigma^2}}\n",
    "+\n",
    "\\frac{\n",
    "    -\\left(y - \\theta \\cdot x\\right)^2\n",
    "}{\n",
    "    2\\sigma^2\n",
    "}\n",
    "\\\\\n",
    "    -\\log\\pprob{\\theta}{Y = y \\condbar X = x}\n",
    "&=\n",
    "    \\frac{\n",
    "        \\left(y - \\theta \\cdot x\\right)^2\n",
    "    }{\n",
    "        2\\sigma^2\n",
    "    }\n",
    "    -\n",
    "    \\log \\frac{1}{\\sqrt{2\\pi\\sigma^2}}\n",
    "\\end{align}\n",
    "\\\\]"
   ]
  },
  {
   "cell_type": "markdown",
   "metadata": {},
   "source": [
    "\\\\[\n",
    "\\begin{align}\n",
    "\\pprob{\\theta}{\\mathcal{D}} &= \\prod_i \\pprob{\\theta}{Y = y^i \\condbar X = x^i}\n",
    "\\\\\n",
    "-\\log \\pprob{\\theta}{\\mathcal{D}}\n",
    "&=\n",
    "\\sum_i -\\log \\pprob{\\theta}{Y = y^i \\condbar X = x^i}\n",
    "\\\\\n",
    "&=\n",
    "\\sum_i\n",
    "    \\frac{\n",
    "        \\left(y^i - \\theta \\cdot x^i\\right)^2\n",
    "    }{\n",
    "        2\\sigma^2\n",
    "    }\n",
    "    -\n",
    "    \\log \\frac{1}{\\sqrt{2\\pi\\sigma^2}}\n",
    "\\end{align}\n",
    "\\\\]"
   ]
  },
  {
   "cell_type": "code",
   "execution_count": null,
   "metadata": {
    "collapsed": true
   },
   "outputs": [],
   "source": []
  }
 ],
 "metadata": {
  "kernelspec": {
   "display_name": "Python (default)",
   "language": "python",
   "name": "conda-default"
  },
  "language_info": {
   "codemirror_mode": {
    "name": "ipython",
    "version": 3
   },
   "file_extension": ".py",
   "mimetype": "text/x-python",
   "name": "python",
   "nbconvert_exporter": "python",
   "pygments_lexer": "ipython3",
   "version": "3.6.0"
  }
 },
 "nbformat": 4,
 "nbformat_minor": 2
}
