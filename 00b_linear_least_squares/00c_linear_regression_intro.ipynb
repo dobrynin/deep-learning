{
 "cells": [
  {
   "cell_type": "markdown",
   "metadata": {},
   "source": [
    "## 00c: Linear Regression Intro\n",
    "\n",
    "Now that we know how to minimize a function, let's use that math knowledge and learn how to fit a line of best fit to data.\n",
    "\n",
    "Let's say you are an agronomist. You want to be able to predict the amount of bushels of corn at harvest time, based on rainfall during the growing season. You suspect that this relationship is mostly linear: for every extra X inches of rainfall, you will get Y more bushels of corn. You expect there to be some variation in there from other factors (how sunny it was that year, what was the temperature, price of corn).\n",
    "\n",
    "You suspect that the relationship is mostly linear, but you don't know exactly how many extra units of corn you'll get for some extra units of rain. You want to discover, or *learn*, what the relationship is.\n",
    "\n",
    "This kind of problem is called a *linear regression* problem. Regression means learning to predict a continuous-ranged value like \"number of bushels of corn.\" It's a *linear* regression because you're trying to find a line that associates $x$ values to $y$ values.\n",
    "\n",
    "To get started, let's generate a synthetic dataset."
   ]
  },
  {
   "cell_type": "code",
   "execution_count": 1,
   "metadata": {},
   "outputs": [
    {
     "data": {
      "text/plain": [
       "<matplotlib.axes._subplots.AxesSubplot at 0x10f224278>"
      ]
     },
     "execution_count": 1,
     "metadata": {},
     "output_type": "execute_result"
    },
    {
     "data": {
      "image/png": "[encoded data removed]",
      "text/plain": [
       "<matplotlib.figure.Figure at 0x108e98978>"
      ]
     },
     "metadata": {},
     "output_type": "display_data"
    }
   ],
   "source": [
    "%matplotlib inline\n",
    "import matplotlib.pyplot as plt\n",
    "import numpy as np\n",
    "# So we generate the same data each time!\n",
    "np.random.seed(0)\n",
    "\n",
    "class Dataset:\n",
    "    NOISE_STDDEV = 25\n",
    "    NUM_SAMPLES = 100\n",
    "    THETA0 = 100.0\n",
    "    THETA1 = 5.0\n",
    "\n",
    "    @classmethod\n",
    "    def generate_data(cls):\n",
    "        xs = []\n",
    "        ys = []\n",
    "        noises = []\n",
    "        for _ in range(cls.NUM_SAMPLES):\n",
    "            # Sample a random x value between 0 and 100.\n",
    "            x_observation = np.random.uniform(low = 0.0, high = 100.0)\n",
    "            y_observation = cls.THETA0 + (x_observation * cls.THETA1)\n",
    "            # Add some \"noise\" to y\n",
    "            noise = np.random.normal(scale = cls.NOISE_STDDEV)\n",
    "            y_observation += noise\n",
    "\n",
    "            xs.append(x_observation)\n",
    "            ys.append(y_observation)\n",
    "            noises.append(noise)\n",
    "\n",
    "        # Return numpy arrays of the data values.\n",
    "        return np.array(xs), np.array(ys), np.array(noises)\n",
    "\n",
    "    def __init__(self):\n",
    "        self.x, self.y, self.noises = type(self).generate_data()\n",
    "\n",
    "    def plot(self, axes):\n",
    "        axes.plot(self.x, self.y, \".\")\n",
    "        axes.set_ylabel(\"y\")\n",
    "        axes.set_xlabel(\"x\")\n",
    "        # Even if all data is positive, show y axis\n",
    "        axes.set_ylim(ymin = np.min((np.min(self.y), 0)))\n",
    "\n",
    "        return axes\n",
    "\n",
    "DATASET = Dataset()\n",
    "\n",
    "DATASET.plot(plt.figure().add_subplot(111))"
   ]
  },
  {
   "cell_type": "markdown",
   "metadata": {},
   "source": [
    "Here we see the dataset. \n",
    "\n",
    "First I generated $x$ values by randomly picking in the range of zero to one hundred. Then I used a \"true\" value `THETA0` and `THETA1` to calculate $y = \\theta_0 + \\theta_1 x$.\n",
    "\n",
    "I then added in some *noise* to the value of $y$. That noise represents variation caused by other factors than the amount of rainfall. That's why no line goes exactly through the points.\n",
    "\n",
    "Let's graph the true relationship between rainfall and bushels of corn."
   ]
  },
  {
   "cell_type": "code",
   "execution_count": 3,
   "metadata": {},
   "outputs": [
    {
     "data": {
      "text/plain": [
       "[<matplotlib.lines.Line2D at 0x11187beb8>]"
      ]
     },
     "execution_count": 3,
     "metadata": {},
     "output_type": "execute_result"
    },
    {
     "data": {
      "image/png": "[encoded data removed]",
      "text/plain": [
       "<matplotlib.figure.Figure at 0x108e8fda0>"
      ]
     },
     "metadata": {},
     "output_type": "display_data"
    }
   ],
   "source": [
    "axes = plt.figure().add_subplot(111)\n",
    "DATASET.plot(axes)\n",
    "x_range = np.arange(0, 100)\n",
    "true_y = Dataset.THETA0 + Dataset.THETA1 * x_range\n",
    "axes.plot(x_range, true_y, \"-\")"
   ]
  },
  {
   "cell_type": "markdown",
   "metadata": {},
   "source": [
    "Okay, but what if we only saw the blue datapoints without the orange line? We'd have to try to find a *line of best fit*. Since any line is defined by an intercept and a slope, what we're really trying to find is an *estimate* of the true $\\theta_0, \\theta_1$ values. We call $\\theta_0, \\theta_1$ the *parameters* of the *model* we are trying to learn.\n",
    "\n",
    "Before we go about asking how to find those estimates, let's first talk about what it means for a line of best fit to be the *best*. We can't directly compare our estimates of $\\theta_0, \\theta_1$ to the true values of $\\theta_0, \\theta_1$, because in real life we won't know the true $\\theta_0, \\theta_1$.\n",
    "\n",
    "What we do is look at how well the line matches up with the previously observed data. For any given observed $x_i$ value, it's very likely that $\\hat\\theta_0 + \\hat\\theta_1 x_i$ won't be quite $y_i$ exactly. (We use the \"hat\" to indicate that this is our estimate of $\\theta_0, \\theta_1$, not the true value). We sometimes write $\\hat\\theta_0 + \\hat\\theta_1 x_i = \\hat{y}_i$.\n",
    "\n",
    "All else equal, it is better if $\\hat{y}_i$ is closer to the true $y_i$. That is, we want the magnitude of $\\hat{y}_i - y_i$ to be small. $\\hat{y}_i - y_i$ is called the *error* of the model at the datapoint $(x_i, y_i)$.\n",
    "\n",
    "The overall error comes from summing up the errors at the individual datapoints. We denote the error of an estimate $\\hat\\theta_0, \\hat\\theta_1$ by $E(\\hat\\theta_0, \\hat\\theta_1)$. Smaller error means a better line than larger error.\n",
    "\n",
    "Now, here's a definition that's *not quite* right:\n",
    "\n",
    "\\\\[\n",
    "E(\\hat\\theta_0, \\hat\\theta_1) = \\sum_{i = 1}^N ((\\theta_0 + \\theta_1 x_i) - y_i) \\quad\\text{(wrong!)}\n",
    "\\\\]\n",
    "\n",
    "If this were the definition, then *overprediction* errors would add to the total error, but then *underprediction* errors would *reduce* the error. We want over and underprediction to contribute equally to error. So here is one possible fix:\n",
    "\n",
    "\\\\[\n",
    "E(\\hat\\theta_0, \\hat\\theta_1)\n",
    "=\n",
    "\\sum_{i = 1}^N \\left|(\\theta_0 + \\theta_1 x_i) - y_i\\right|\n",
    "\\quad\\text{(uncommon!)}\n",
    "\\\\]\n",
    "\n",
    "While you can theoretically use this formula, it is not common to do so. It is more common to use:\n",
    "\n",
    "\\\\[\n",
    "E(\\hat\\theta_0, \\hat\\theta_1)\n",
    "=\n",
    "\\sum_{i = 1}^N ((\\theta_0 + \\theta_1 x_i) - y_i)^2\n",
    "\\quad\\text{(correct!)}\n",
    "\\\\]\n",
    "\n",
    "Because squaring makes a negative quantity positive, this means that under and overprediction are treated equally.\n",
    "\n",
    "Why use this error? It turns out there are several good reasons for doing so. But we will talk about those later.\n",
    "\n",
    "This error function is called the *sum of squared errors* or SSE."
   ]
  },
  {
   "cell_type": "markdown",
   "metadata": {},
   "source": [
    "Let's calculate the SSE of our dataset using the \"true\" parameters `THETA0, THETA1`. The SSE will not be zero because even though this is the true line, it still mispredicts the $y_i$ values a little because of random variation caused by other noise factors."
   ]
  },
  {
   "cell_type": "code",
   "execution_count": 5,
   "metadata": {},
   "outputs": [
    {
     "name": "stdout",
     "output_type": "stream",
     "text": [
      "59633.1860579\n"
     ]
    }
   ],
   "source": [
    "def calculate_sse(x, y, theta0, theta1):\n",
    "    return np.sum(\n",
    "        ((theta0 + theta1 * x) - y) ** 2\n",
    "    )\n",
    "\n",
    "print(\n",
    "    calculate_sse(DATASET.x, DATASET.y, Dataset.THETA0, Dataset.THETA1)\n",
    ")"
   ]
  },
  {
   "cell_type": "code",
   "execution_count": null,
   "metadata": {
    "collapsed": true
   },
   "outputs": [],
   "source": []
  }
 ],
 "metadata": {
  "kernelspec": {
   "display_name": "Python (default)",
   "language": "python",
   "name": "conda-default"
  },
  "language_info": {
   "codemirror_mode": {
    "name": "ipython",
    "version": 3
   },
   "file_extension": ".py",
   "mimetype": "text/x-python",
   "name": "python",
   "nbconvert_exporter": "python",
   "pygments_lexer": "ipython3",
   "version": "3.6.0"
  }
 },
 "nbformat": 4,
 "nbformat_minor": 2
}
