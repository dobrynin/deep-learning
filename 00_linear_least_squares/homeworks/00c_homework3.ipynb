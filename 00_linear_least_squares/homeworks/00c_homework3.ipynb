{
 "cells": [
  {
   "cell_type": "markdown",
   "metadata": {},
   "source": [
    "We are going to implement Newton's Method for zero finding! Let's go!\n",
    "\n",
    "**First**, write a function `f` to calculate $f(x) = 5(x - 5)^2 - 5$. Create a range of `x` values from zero to ten with an increment of 0.1. Call this `x_values`. Plot this function.\n",
    "\n",
    "**Second**, write a function `df` to calculate $f'$. Use the chain rule to calculate this. Plot this.\n",
    "\n",
    "**Third**, Write the function `tangent_line` once again and plot a tangent line at $x_0 = -2$. Ask the user to pass you $f$ and $df$ as arguments; don't just always use the globally defined versions."
   ]
  },
  {
   "cell_type": "code",
   "execution_count": null,
   "metadata": {},
   "outputs": [],
   "source": [
    "%matplotlib inline\n",
    "import matplotlib.pyplot as plt\n",
    "import numpy as np\n",
    "\n",
    "def f(x):\n",
    "    # TODO\n",
    "    pass\n",
    "\n",
    "# These are suggested!\n",
    "plt.axhline(0, color = \"black\", lw = 1)\n",
    "plt.ylim(bottom = -100)\n",
    "\n",
    "def df(x):\n",
    "    # TODO\n",
    "    pass\n",
    "\n",
    "def tangent_line(f, df, x0, x_range):\n",
    "    # TODO\n",
    "    pass"
   ]
  },
  {
   "cell_type": "markdown",
   "metadata": {},
   "source": [
    "**Fourth**, write a function that takes in $f$ and $df$, as well as an $x$ value. It should return a new $x$ value which is the zero of the tangent line at $x$. Remember the equation:\n",
    "\n",
    "\\\\[\n",
    "y = a + bx \\Rightarrow \\Delta x = \\frac{\\Delta y}{b}\n",
    "\\\\]\n",
    "\n",
    "**Fifth**, write a function called `graph_all` which takes in $f$, $df$, and $x_i$, and `x_values`. It should graph:\n",
    "\n",
    "1. The function $f$.\n",
    "2. The function $df$.\n",
    "3. The tangent line to $f$ at $x_i$.\n",
    "4. A red solid circle at the tangent point.\n",
    "5. A red open circle at the zero of the tangent line.\n",
    "\n",
    "For the circles, try this. Use a format string of `'o'` for a circle. Specify the `color` keyword argument as `'red'`. Also set the marker size using the `ms` key to `10`. Last, for the open circle, add `markerfacecolor = 'none'` to have an empty, red circle.\n",
    "\n",
    "Call this with $x_i = 2.0$."
   ]
  },
  {
   "cell_type": "code",
   "execution_count": null,
   "metadata": {},
   "outputs": [],
   "source": [
    "def tangent_line_zero(f, df, x0):\n",
    "    # TODO\n",
    "    pass\n",
    "\n",
    "# Should be 3 1/3. Does that look right in your graph above?\n",
    "print(\n",
    "    tangent_line_zero(f, df, 2.0)\n",
    ")\n",
    "\n",
    "def graph_all(f, df, x_old, x_values):\n",
    "    # TODO\n",
    "    pass\n",
    "    \n",
    "# graph_all(f, df, 2.0, x_values)"
   ]
  },
  {
   "cell_type": "markdown",
   "metadata": {},
   "source": [
    "Alright, pro! Let make this happen!\n",
    "\n",
    "Write a loop of ten iterations. Start at `x = 0`. Here's what I want you to do:\n",
    "\n",
    "1. First, call `plt.figure()` to create a new, blank figure.\n",
    "2. Second, call `graph_all`.\n",
    "3. Call your `tangent_line_zero`, update `x` and continue.\n",
    "\n",
    "Go do it! I believe in you!"
   ]
  },
  {
   "cell_type": "code",
   "execution_count": null,
   "metadata": {},
   "outputs": [],
   "source": [
    "x = 0\n",
    "for _ in range(10):\n",
    "    # You have the power!\n",
    "    pass"
   ]
  },
  {
   "cell_type": "code",
   "execution_count": null,
   "metadata": {
    "collapsed": true
   },
   "outputs": [],
   "source": []
  }
 ],
 "metadata": {
  "kernelspec": {
   "display_name": "Python (default)",
   "language": "python",
   "name": "conda-default"
  },
  "language_info": {
   "codemirror_mode": {
    "name": "ipython",
    "version": 3
   },
   "file_extension": ".py",
   "mimetype": "text/x-python",
   "name": "python",
   "nbconvert_exporter": "python",
   "pygments_lexer": "ipython3",
   "version": "3.6.0"
  }
 },
 "nbformat": 4,
 "nbformat_minor": 2
}
