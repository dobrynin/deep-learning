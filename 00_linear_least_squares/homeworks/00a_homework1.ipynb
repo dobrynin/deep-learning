{
 "cells": [
  {
   "cell_type": "markdown",
   "metadata": {},
   "source": [
    "Print each result using numpy's `print` function.\n",
    "\n",
    "1. Use numpy's `np.zeros` function to create an array of 10 zeros.\n",
    "2. Use numpy's `np.arange` function to create an array of 0 to 10.\n",
    "3. Use numpy's `np.arange` function to create an array of 0 to 5 (exclusive) in increments of 0.25.\n",
    "4. Add 1 to every element of a numpy array of 0 to 5 in 0.25 increments without using a loop.\n",
    "5. Multiply every element of a numpy array of 0 to 5 in 0.25 increments by 5.0 without using a loop.\n"
   ]
  },
  {
   "cell_type": "code",
   "execution_count": null,
   "metadata": {
    "collapsed": true
   },
   "outputs": [],
   "source": [
    "import numpy as np"
   ]
  },
  {
   "cell_type": "markdown",
   "metadata": {},
   "source": [
    "1. Use the magic string `%matplotlib inline` to tell Jupyter to render plots inside the Jupyter notebook.\n",
    "2. Create a numpy array `x` of 0 to 5 in increments of 0.25. Graph it using `plt.plot`. Look at [the documentation](https://matplotlib.org/api/pyplot_api.html#matplotlib.pyplot.plot). The first argument is the `x` values, the second the `y` values, and the third is how you want to render the points. Use `'.'` for now to graph the points. Just plot the `x`s against the same `x` values for now. You should get a straight line of dots.\n",
    "3. Next, calculate `y` by squaring all the `x`s and adding 5. You don't need loops. Plot the xs against the y values now. Again, use '.' to plot dots.\n",
    "4. Last, plot a curve through the `y` values. Use the `'-'` style to plot a curve.\n",
    "5. Notice the points are connected by line segments. Briefly change `x` to have an increment of 1.0 to see how janky the curve can look.\n",
    "6. Before each call to `plot`, add a line which says `plt.figure()`. This will create a new figure each time."
   ]
  },
  {
   "cell_type": "code",
   "execution_count": null,
   "metadata": {
    "collapsed": true
   },
   "outputs": [],
   "source": [
    "import matplotlib.pyplot as plt\n",
    "\n",
    "# COMMENT ME BACK IN!\n",
    "# %matplotlib inline"
   ]
  },
  {
   "cell_type": "markdown",
   "metadata": {},
   "source": [
    "Below I create an array of `x` values and define a function `f` that corresponds to $(x - 5)^2 - 5$. I then plot $x$ against $y$.\n",
    "\n",
    "Note that I use `plt.axhline(0, color = \"black\", lw = 1)` to draw an x axis line.\n",
    "\n",
    "**Part 1** I want you to write a function that calculates the derivative $f'$, also written $\\frac{\\partial f}{\\partial x}(x)$. Plot the derivative line on the same graph.\n",
    "\n",
    "**Part 2** Write a function that calculates $y$ values of the tangent line to $f$ at a given point $x_0$. The line is tangent to $f$ at $x_0$, but the user also gives you $x$ values to calculate the corresponding $y$s for.\n",
    "\n",
    "Remember the tangent line has a slope equal to the derivative value. You also know that it must pass through $(x, f(x))$. Look up the point and slope formula for a line if you need to.\n",
    "\n",
    "Plot this tangent line for $x_0 = 8$. I've set a minimum $y$ so you don't smoosh the graph with your new line. Comment out the $y$ limit to see what would happen."
   ]
  },
  {
   "cell_type": "code",
   "execution_count": null,
   "metadata": {},
   "outputs": [],
   "source": [
    "x = np.arange(0, 10, 0.1)\n",
    "\n",
    "def f(x):\n",
    "    return (x - 5) ** 2 - 5\n",
    "\n",
    "y = f(x)\n",
    "\n",
    "plt.plot(x, y, '-')\n",
    "plt.axhline(0, color = \"black\", lw = 1)\n",
    "plt.ylim(bottom = -10)\n",
    "\n",
    "def df(x):\n",
    "    # TODO: This is your job!\n",
    "    pass\n",
    "\n",
    "# plt.plot(x, df(x), '-')\n",
    "\n",
    "def tangent_line(x0, x):\n",
    "    # TODO: This is your job!\n",
    "    pass\n",
    "\n",
    "# x0 = 8.0\n",
    "# plt.plot(x, tangent_line(x0, x))\n"
   ]
  },
  {
   "cell_type": "code",
   "execution_count": null,
   "metadata": {
    "collapsed": true
   },
   "outputs": [],
   "source": []
  }
 ],
 "metadata": {
  "kernelspec": {
   "display_name": "Python (default)",
   "language": "python",
   "name": "conda-default"
  },
  "language_info": {
   "codemirror_mode": {
    "name": "ipython",
    "version": 3
   },
   "file_extension": ".py",
   "mimetype": "text/x-python",
   "name": "python",
   "nbconvert_exporter": "python",
   "pygments_lexer": "ipython3",
   "version": "3.6.0"
  }
 },
 "nbformat": 4,
 "nbformat_minor": 2
}
