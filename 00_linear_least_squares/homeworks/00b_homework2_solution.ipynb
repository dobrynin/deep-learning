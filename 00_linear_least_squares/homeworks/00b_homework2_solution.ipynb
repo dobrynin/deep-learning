{
 "cells": [
  {
   "cell_type": "markdown",
   "metadata": {},
   "source": [
    "**First**, use `np.random.uniform` to generate a set of random $x$ values in the range of $(0, 100)$. You don't need to use a loop; look at [the docs for `np.random.uniform`](https://docs.scipy.org/doc/numpy-1.13.0/reference/generated/numpy.random.uniform.html).\n",
    "\n",
    "**Second**, use the given `THETA0` and `THETA1` values to calculate the \"ideal\" values $y$. Recall that $\\theta_0$ is the intercept of the line, and $\\theta_1$ is the slope.\n",
    "\n",
    "**Third**, use `np.random.normal` to add some noise to the $y$ values. Use the `NOISE_STDDEV` to add an appropriate amount of noise. Again, avoid a loop and look at the [numpy documents](https://docs.scipy.org/doc/numpy-1.13.0/reference/generated/numpy.random.normal.html).\n",
    "\n",
    "**Fourth**, use `matplotlib.pyplot` to plot the $x$ values against the $y$ values. Plot as points.\n",
    "\n",
    "**Fifth**, create an array of $x$ values from zero to 100 in steps of 5.0. Maybe call this `x_range` to keep it seperate from your `x` datapoint values. Plot the *ideal* line using the true `THETA0` and `THETA1` values. Notice how the $y$ axis doesn't go down to zero? That's because our values start at approximately `THETA0`, the intercept. Correct this using [`plt.ylim`](https://matplotlib.org/devdocs/api/_as_gen/matplotlib.pyplot.ylim.html). Set the min $y$ value to zero."
   ]
  },
  {
   "cell_type": "code",
   "execution_count": 10,
   "metadata": {},
   "outputs": [
    {
     "data": {
      "text/plain": [
       "[<matplotlib.lines.Line2D at 0x113728eb8>]"
      ]
     },
     "execution_count": 10,
     "metadata": {},
     "output_type": "execute_result"
    },
    {
     "data": {
      "image/png": "[encoded data removed]",
      "text/plain": [
       "<matplotlib.figure.Figure at 0x1162e9550>"
      ]
     },
     "metadata": {},
     "output_type": "display_data"
    }
   ],
   "source": [
    "%matplotlib inline\n",
    "import matplotlib.pyplot as plt\n",
    "import numpy as np\n",
    "\n",
    "THETA0 = 100\n",
    "THETA1 = 5.0\n",
    "NOISE_STDDEV = 25\n",
    "\n",
    "x = np.random.uniform(low = 0, high = 100, size = 100)\n",
    "y = THETA0 + THETA1 * x\n",
    "y += np.random.normal(scale = NOISE_STDDEV, size = 100)\n",
    "\n",
    "plt.plot(x, y, '.')\n",
    "plt.ylim(ymin = 0)\n",
    "\n",
    "x_range = np.arange(0, 100, 5.0)\n",
    "plt.plot(x_range, THETA0 + THETA1 * x_range, '-')"
   ]
  },
  {
   "cell_type": "markdown",
   "metadata": {},
   "source": [
    "Write a function called `avg_sse`. It should take in a proposed $\\theta_0$ and $\\theta_1$, as well as `x` and `y` values. It should then calculate the average squared prediction error. Next, make it insensitive to the number of datapoints by dividing by the length of $x$\n",
    "\n",
    "You should not need to use any loops for this. You can use numpy for all of this.\n",
    "\n",
    "Try it out with the *true* `THETA0` and `THETA1`. It won't be zero!\n",
    "\n",
    "You may reflect that it will be close to `(NOISE_STDDEV * THETA1) ** 2`. If you increase the number of datapoints this should converge. Curious...\n"
   ]
  },
  {
   "cell_type": "code",
   "execution_count": 9,
   "metadata": {},
   "outputs": [
    {
     "name": "stdout",
     "output_type": "stream",
     "text": [
      "652.961690388\n"
     ]
    }
   ],
   "source": [
    "def avg_sse(theta0, theta1, x, y):\n",
    "    return np.sum((y - (theta0 + theta1 * x)) ** 2) / len(x)\n",
    "\n",
    "print(\n",
    "    avg_sse(THETA0, THETA1, x, y)\n",
    ")"
   ]
  },
  {
   "cell_type": "code",
   "execution_count": null,
   "metadata": {
    "collapsed": true
   },
   "outputs": [],
   "source": []
  }
 ],
 "metadata": {
  "kernelspec": {
   "display_name": "Python (default)",
   "language": "python",
   "name": "conda-default"
  },
  "language_info": {
   "codemirror_mode": {
    "name": "ipython",
    "version": 3
   },
   "file_extension": ".py",
   "mimetype": "text/x-python",
   "name": "python",
   "nbconvert_exporter": "python",
   "pygments_lexer": "ipython3",
   "version": "3.6.0"
  }
 },
 "nbformat": 4,
 "nbformat_minor": 2
}
