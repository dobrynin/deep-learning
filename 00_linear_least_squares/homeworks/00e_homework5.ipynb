{
 "cells": [
  {
   "cell_type": "markdown",
   "metadata": {},
   "source": [
    "As ever, let's generate a dataset. **Note**, I've changed `THETA0 = 1` and generated a dataset from zero to one, rather than to one hundred.\n",
    "\n",
    "This is to make the size of the errors nicer, since the squares of large numbers are yet even larger."
   ]
  },
  {
   "cell_type": "code",
   "execution_count": null,
   "metadata": {},
   "outputs": [],
   "source": [
    "%matplotlib inline\n",
    "import matplotlib.pyplot as plt\n",
    "import numpy as np\n",
    "np.random.seed(0)\n",
    "\n",
    "THETA0 = 1\n",
    "THETA1 = 5.0\n",
    "NOISE_STDDEV = 0.25\n",
    "\n",
    "x = np.random.uniform(low = 0, high = 1.0, size = 100)\n",
    "y = THETA0 + THETA1 * x\n",
    "y += np.random.normal(scale = NOISE_STDDEV, size = 100)\n",
    "\n",
    "plt.plot(x, y, '.')\n",
    "plt.ylim(ymin = 0)\n",
    "\n",
    "x_range = np.arange(0, 1.0, 0.01)\n",
    "plt.plot(x_range, THETA0 + THETA1 * x_range, '-')"
   ]
  },
  {
   "cell_type": "markdown",
   "metadata": {},
   "source": [
    "It's time to solve the problem for both $\\theta_0$ and $\\theta_1$.\n",
    "\n",
    "To start, let's plot the contour plot of the error surface.\n",
    "\n",
    "**First**, write a function called `sse_error(theta0, theta1)`. Go ahead and capture the `x` and `y` global variables.\n",
    "\n",
    "**Second**, write a function called `sse_errors(theta0_range, theta1_range)`. This function should return a *matrix* of errors. To create a matrix, you can write `np.zeros(shape = (num_rows, num_columns))`. Call this matrix `errors`.\n",
    "\n",
    "The format of `errors` should be as follows. `errors[i, j]` should be the SSE error for `theta0_values[j], theta1_values[i]`. That is: the matrix should have a row for each `theta1_value` and a column for each `theta0_value`.\n",
    "\n",
    "That feels weird, but that's what the contours function wants.\n",
    "\n",
    "**Third**, use the `plt.contour` function to plot the error surface. I have picked an appropriate `theta0_range, theta1_range`. To use, give as the first argument `theta0_range` (that's your $x$ values), then `theta1_range` (that's your $y$ values), and third `errors`. Errors are your $z$ values: the height of the error surface. Give as a keyword argument `contours = contour_levels` to use my given contour levels.\n",
    "\n",
    "Assign the result of `plt.contour` to a variable `cs`. `plt.contour` returns a list of contour objects. I pass these to `plt.clabel` to write numeric labels onto the contour lines.\n",
    "\n",
    "Write this in a function called `plot_contours()`. It is okay to capture the `theta0_range, theta1_range, errors` variables.\n",
    "\n",
    "I've used `plt.figure(figsize = (7, 7))` to have a nice large square figure. This will also make a new figure each time we call `plot_contours()`, which will be useful later."
   ]
  },
  {
   "cell_type": "code",
   "execution_count": null,
   "metadata": {},
   "outputs": [],
   "source": [
    "# https://matplotlib.org/api/_as_gen/matplotlib.axes.Axes.contour.html\n",
    "\n",
    "def sse_error(theta0, theta1):\n",
    "    # you may use x, y, and THETA0 here.\n",
    "    pass\n",
    "\n",
    "def sse_errors(theta0_range, theta1_range):\n",
    "    errors = np.zeros(\n",
    "        shape = # ???\n",
    "    )\n",
    "    \n",
    "    # now fill out the errors matrix.\n",
    "\n",
    "    return errors\n",
    "\n",
    "# You don't need to modify these\n",
    "theta0_range = np.arange(-5, 7, 0.1)\n",
    "theta1_range = np.arange(-10, 20, 0.1)\n",
    "errors = sse_errors(theta0_range, theta1_range)\n",
    "print(errors.shape)\n",
    "# => Sanity check! Should be (300, 120).\n",
    "contour_levels = [\n",
    "    100,\n",
    "    200,\n",
    "    400, \n",
    "    800,\n",
    "    1600,\n",
    "    3200,\n",
    "    6400,\n",
    "    12800\n",
    "]\n",
    "\n",
    "def plot_contours():\n",
    "    plt.figure(figsize = (7, 7))\n",
    "    # Call `plt.contour(x, y, Z, levels = contour_levels)`.\n",
    "    cs = plt.contour(\n",
    "        # TODO\n",
    "    )\n",
    "\n",
    "    plt.clabel(cs)\n",
    "\n",
    "plot_contours()"
   ]
  },
  {
   "cell_type": "markdown",
   "metadata": {},
   "source": [
    "Next, **let's write functions to calculate the first and second derivatives** with respect to $\\theta_0$ and $\\theta_1$. Having done that, let's write methods to improve $\\theta_0, \\theta_1$.\n",
    "\n",
    "A trick to note. Say I need to take the derivative of $\\sum 2 * x$ with respect to $x$. This is equal to $\\sum 2 * 1$. To calculate this, I might do this trick: `np.sum(2 * np.ones(len(x))`.\n",
    "\n",
    "This way I will sum an array of ones as long as the array of $x$s."
   ]
  },
  {
   "cell_type": "code",
   "execution_count": null,
   "metadata": {},
   "outputs": [],
   "source": [
    "def error_deriv_wrt_theta0(theta0, theta1):\n",
    "    pass\n",
    "\n",
    "def error_2nd_deriv_wrt_theta0(theta0, theta1):\n",
    "    # May need np.ones here.\n",
    "    pass\n",
    "\n",
    "def error_deriv_wrt_theta1(theta0, theta1):\n",
    "    pass\n",
    "\n",
    "def error_2nd_deriv_wrt_theta1(theta0, theta1):\n",
    "    pass\n",
    "\n",
    "# Return (improved theta0, old theta1)\n",
    "def improve_theta0(theta0, theta1):\n",
    "    pass\n",
    "# Return (old theta0, improved theta1)\n",
    "def improve_theta1(theta0, theta1):\n",
    "    pass\n",
    "\n",
    "# The should both print out approximately (1, 5), the correct theta values.\n",
    "# Why do these give the right answer for theta0, theta1?\n",
    "print(\n",
    "    improve_theta0(10, 5)\n",
    ")\n",
    "print(\n",
    "    improve_theta1(1, 0)\n",
    ")"
   ]
  },
  {
   "cell_type": "markdown",
   "metadata": {},
   "source": [
    "Last, let's make a cool \"animation\" to see our progress.\n",
    "\n",
    "I've started `theta0_estimates` and `theta1_estimates` off. I've also given you a loop that will run 10 steps.\n",
    "\n",
    "Each step, get the most recent theta estimates. Call these `old_theta0, old_theta1`.\n",
    "\n",
    "Next, for each even step, update `theta0` using `improve_theta0`. For each odd step update `theta1`. Append these new estimates to the lists.\n",
    "\n",
    "Call `plot_contours()` to draw the contours in a new figure. We want to then draw all the steps made so far. For this, I have written the shell of a function called `plot_arrows()`.\n",
    "\n",
    "Loop through your estimates, drawing an arrow for each step. To draw an arrow, use `plt.arrow(x, y, delta_x, delta_y)`.\n",
    "\n",
    "Last, call `plot_data_and_line` with your latest `theta0, theta1` each time, so you can see how your model improves!\n",
    "\n",
    "Okay, you did it! If you like go ahead and run more steps to get a better answer!"
   ]
  },
  {
   "cell_type": "code",
   "execution_count": null,
   "metadata": {},
   "outputs": [],
   "source": [
    "theta0_estimates = [-4]\n",
    "theta1_estimates = [-7]\n",
    "\n",
    "def plot_arrows():\n",
    "    for idx in range(0, len(theta0_estimates) - 1):\n",
    "        plt.arrow(\n",
    "            # x, y, delta_x, delta_y,\n",
    "#             head_width = 0.3,\n",
    "#             length_includes_head = True,\n",
    "        )\n",
    "\n",
    "for idx in range(20):\n",
    "    # 1. Extract previous estimates\n",
    "\n",
    "    # 2. On even iterations, improve theta0, on odd, improve theta1.\n",
    "    if idx % 2 == 0:\n",
    "        pass\n",
    "    else:\n",
    "        pass\n",
    "\n",
    "    # Append to the list.\n",
    "    \n",
    "    # Plot the contours, and the arrows. Also plot the current line and data with plot_data_and_line."
   ]
  },
  {
   "cell_type": "code",
   "execution_count": null,
   "metadata": {
    "collapsed": true
   },
   "outputs": [],
   "source": []
  }
 ],
 "metadata": {
  "kernelspec": {
   "display_name": "Python (default)",
   "language": "python",
   "name": "conda-default"
  },
  "language_info": {
   "codemirror_mode": {
    "name": "ipython",
    "version": 3
   },
   "file_extension": ".py",
   "mimetype": "text/x-python",
   "name": "python",
   "nbconvert_exporter": "python",
   "pygments_lexer": "ipython3",
   "version": "3.6.0"
  }
 },
 "nbformat": 4,
 "nbformat_minor": 2
}
