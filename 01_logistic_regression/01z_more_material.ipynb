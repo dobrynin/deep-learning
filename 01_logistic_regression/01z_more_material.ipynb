{
 "cells": [
  {
   "cell_type": "markdown",
   "metadata": {},
   "source": [
    "### Naive Bayes Probability Estimates Are Inaccurate\n",
    "\n",
    "The Naive Bayes model is an example of a *probabilistic graphical model*. In particular, it is the simplest example of a *Bayesian Network*."
   ]
  },
  {
   "cell_type": "code",
   "execution_count": 1,
   "metadata": {},
   "outputs": [
    {
     "name": "stdout",
     "output_type": "stream",
     "text": [
      "total_number of emails: 5172\n",
      "number of training emails: 4181\n",
      "number of test emails: 991\n",
      "1.0\n",
      "1.5\n",
      "2.33333333333\n",
      "4.0\n",
      "9.0\n",
      "[(0.5, {'limit': 0.5, 'expected_rate': 0.91064650168097672, 'true_rate': 0.9525862068965517}), (0.59999999999999998, {'limit': 0.59999999999999998, 'expected_rate': 0.9240938475636995, 'true_rate': 0.9555555555555556}), (0.69999999999999996, {'limit': 0.69999999999999996, 'expected_rate': 0.93292936845285546, 'true_rate': 0.9541284403669725}), (0.79999999999999993, {'limit': 0.79999999999999993, 'expected_rate': 0.93954518363462225, 'true_rate': 0.9523809523809523}), (0.89999999999999991, {'limit': 0.89999999999999991, 'expected_rate': 0.95228004210517281, 'true_rate': 0.96})]\n"
     ]
    }
   ],
   "source": [
    "import lib.dataset\n",
    "from lib.naive_bayes_evaluator import NaiveBayesEvaluator\n",
    "from lib.naive_bayes_model import NaiveBayesModel\n",
    "\n",
    "RAW_DATASET = lib.dataset.RawDataset.get()\n",
    "(training_set, test_set) = RAW_DATASET.split(ratio = 0.80)\n",
    "\n",
    "print(f\"total_number of emails: {len(RAW_DATASET.ham_emails) + len(RAW_DATASET.spam_emails)}\")\n",
    "print(f\"number of training emails: {len(training_set.ham_emails) + len(training_set.spam_emails)}\")\n",
    "print(f\"number of test emails: {len(test_set.ham_emails) + len(test_set.spam_emails)}\")\n",
    "\n",
    "model = NaiveBayesModel(\n",
    "    training_set.feature_probabilities().filter(reach_limit = 100),\n",
    "    use_negative_features = False\n",
    ")\n",
    "\n",
    "print(NaiveBayesEvaluator.spam_probability_at_different_scores(\n",
    "    model,\n",
    "    test_set\n",
    "))"
   ]
  }
 ],
 "metadata": {
  "kernelspec": {
   "display_name": "Python (default)",
   "language": "python",
   "name": "conda-default"
  },
  "language_info": {
   "codemirror_mode": {
    "name": "ipython",
    "version": 3
   },
   "file_extension": ".py",
   "mimetype": "text/x-python",
   "name": "python",
   "nbconvert_exporter": "python",
   "pygments_lexer": "ipython3",
   "version": "3.6.0"
  }
 },
 "nbformat": 4,
 "nbformat_minor": 2
}
