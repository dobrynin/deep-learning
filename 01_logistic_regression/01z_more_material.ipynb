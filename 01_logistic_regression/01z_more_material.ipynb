{
 "cells": [
  {
   "cell_type": "markdown",
   "metadata": {},
   "source": [
    "### Naive Bayes Probability Estimates Are Inaccurate\n",
    "\n",
    "The Naive Bayes model is an example of a *probabilistic graphical model*. In particular, it is the simplest example of a *Bayesian Network*."
   ]
  },
  {
   "cell_type": "markdown",
   "metadata": {},
   "source": [
    "**(Run this cell to define useful Latex macros)**\n",
    "\\\\[\n",
    "\\newcommand{\\card}[1]{\\left\\lvert#1\\right\\rvert}\n",
    "\\newcommand{\\condbar}[0]{\\,\\big|\\,}\n",
    "\\newcommand{\\eprob}[1]{\\widehat{\\text{Pr}}\\left[#1\\right]}\n",
    "\\newcommand{\\norm}[1]{\\left\\lvert\\left\\lvert#1\\right\\rvert\\right\\rvert}\n",
    "\\newcommand{\\prob}[1]{\\text{Pr}\\left[#1\\right]}\n",
    "\\newcommand{\\set}[1]{\\left\\{#1\\right\\}}\n",
    "\\\\]"
   ]
  },
  {
   "cell_type": "code",
   "execution_count": 1,
   "metadata": {},
   "outputs": [
    {
     "ename": "ModuleNotFoundError",
     "evalue": "No module named 'lib'",
     "output_type": "error",
     "traceback": [
      "\u001b[0;31m---------------------------------------------------------------------------\u001b[0m",
      "\u001b[0;31mModuleNotFoundError\u001b[0m                       Traceback (most recent call last)",
      "\u001b[0;32m<ipython-input-1-313a948d8476>\u001b[0m in \u001b[0;36m<module>\u001b[0;34m()\u001b[0m\n\u001b[0;32m----> 1\u001b[0;31m \u001b[0;32mimport\u001b[0m \u001b[0mlib\u001b[0m\u001b[0;34m.\u001b[0m\u001b[0mdataset\u001b[0m\u001b[0;34m\u001b[0m\u001b[0m\n\u001b[0m\u001b[1;32m      2\u001b[0m \u001b[0;32mfrom\u001b[0m \u001b[0mlib\u001b[0m\u001b[0;34m.\u001b[0m\u001b[0mnaive_bayes_evaluator\u001b[0m \u001b[0;32mimport\u001b[0m \u001b[0mNaiveBayesEvaluator\u001b[0m\u001b[0;34m\u001b[0m\u001b[0m\n\u001b[1;32m      3\u001b[0m \u001b[0;32mfrom\u001b[0m \u001b[0mlib\u001b[0m\u001b[0;34m.\u001b[0m\u001b[0mnaive_bayes_model\u001b[0m \u001b[0;32mimport\u001b[0m \u001b[0mNaiveBayesModel\u001b[0m\u001b[0;34m\u001b[0m\u001b[0m\n\u001b[1;32m      4\u001b[0m \u001b[0;34m\u001b[0m\u001b[0m\n\u001b[1;32m      5\u001b[0m \u001b[0mRAW_DATASET\u001b[0m \u001b[0;34m=\u001b[0m \u001b[0mlib\u001b[0m\u001b[0;34m.\u001b[0m\u001b[0mdataset\u001b[0m\u001b[0;34m.\u001b[0m\u001b[0mRawDataset\u001b[0m\u001b[0;34m.\u001b[0m\u001b[0mget\u001b[0m\u001b[0;34m(\u001b[0m\u001b[0;34m)\u001b[0m\u001b[0;34m\u001b[0m\u001b[0m\n",
      "\u001b[0;31mModuleNotFoundError\u001b[0m: No module named 'lib'"
     ]
    }
   ],
   "source": [
    "import lib.dataset\n",
    "from lib.naive_bayes_evaluator import NaiveBayesEvaluator\n",
    "from lib.naive_bayes_model import NaiveBayesModel\n",
    "\n",
    "RAW_DATASET = lib.dataset.RawDataset.get()\n",
    "(training_set, test_set) = RAW_DATASET.split(ratio = 0.80)\n",
    "\n",
    "print(f\"total_number of emails: {len(RAW_DATASET.ham_emails) + len(RAW_DATASET.spam_emails)}\")\n",
    "print(f\"number of training emails: {len(training_set.ham_emails) + len(training_set.spam_emails)}\")\n",
    "print(f\"number of test emails: {len(test_set.ham_emails) + len(test_set.spam_emails)}\")\n",
    "\n",
    "model = NaiveBayesModel(\n",
    "    training_set.feature_probabilities().filter(reach_limit = 100),\n",
    "    use_negative_features = False\n",
    ")\n",
    "\n",
    "print(NaiveBayesEvaluator.spam_probability_at_different_scores(\n",
    "    model,\n",
    "    test_set\n",
    "))"
   ]
  },
  {
   "cell_type": "markdown",
   "metadata": {},
   "source": [
    "### Naive Bayes Can Answer Any Query\n",
    "\n",
    "Let's recall the assumption that underlies our Naive Bayes model:\n",
    "\n",
    "\\\\[\n",
    "\\begin{align}\n",
    "\\prob{W_1 = w_1, \\ldots, W_k = w_k \\condbar \\text{SPAM} = 1}\n",
    "&=\n",
    "\\prob{W_1 = w_1 \\condbar \\text{SPAM} = 1}\n",
    "\\cdots\n",
    "\\prob{W_k = w_k \\condbar \\text{SPAM} = 1}\n",
    "\\\\\n",
    "\\prob{W_1 = w_1, \\ldots, W_k = w_k \\condbar \\text{SPAM} = 0}\n",
    "&=\n",
    "\\prob{W_1 = w_1 \\condbar \\text{SPAM} = 0}\n",
    "\\cdots\n",
    "\\prob{W_k = w_k \\condbar \\text{SPAM} = 0}\n",
    "\\end{align}\n",
    "\\\\]\n",
    "\n",
    "This is our conditional independence assumption. In fact, let's take it further:\n",
    "\n",
    "\\\\[\n",
    "\\begin{align}\n",
    "&\\prob{W_1 = w_1, \\ldots, W_k = w_k, \\text{SPAM} = 1}\\\\\n",
    "&=\n",
    "\\prob{\\text{SPAM} = 1}\n",
    "\\prob{W_1 = w_1, \\ldots, W_k = w_k \\condbar \\text{SPAM} = 1}\n",
    "\\\\\n",
    "&=\n",
    "\\prob{\\text{SPAM} = 1}\n",
    "\\prob{W_1 = w_1 \\condbar \\text{SPAM} = 1}\n",
    "\\cdots\n",
    "\\prob{W_k = w_k \\condbar \\text{SPAM} = 1}\n",
    "\\end{align}\n",
    "\\\\]\n",
    "\n",
    "Now, our Naive Bayes is responsible for finding all those terms: the basic spam/ham probabilities, as well as the conditional (single) feature probabilities. Therefore our Naive Bayes can be used to calculate this probability.\n",
    "\n",
    "Notice that *every* variable is specified in this equation. This is very significant. This let's us use our Naive Bayes model to answer *any* statistical *query*.\n",
    "\n",
    "Let me give you an example. Consider if I want to calculate $\\prob{\\text{BALDNESS} = 1 \\condbar \\text{INVESTMENT} = 1}$. We know that this is not just $\\prob{\\text{BALDNESS} = 1}$ because \"baldness\" is *not* unconditionally on \"investment\", because investment indicates a spam email, and a spam email likely has baldness.\n",
    "\n",
    "So to calculate this, consider all the settings of $\\set{\\text{SPAM}, W_1, \\ldots, W_k}$. There are $2^{k + 1}$ of these, because they are all binary variables. Throw away all settings where the $w_i$ corresponding to \"investment\" is zero. Since I gave you the formula for calculating a probability if all variables are specified, go ahead and do that. Sum these probabilities up. You now have $\\prob{\\text{INVESTMENT} = 1}$.\n",
    "\n",
    "Next, take that set and ignore those settings where $w_j$ for \"baldness\" is zero. Again, calculate the probabilities of each individual setting. Sum up. You now have $\\prob{\\text{BALDNESS} = 1 \\wedge \\text{INVESTMENT} = 1}$.\n",
    "\n",
    "Last, calculate the ratio:\n",
    "\n",
    "\\\\[\n",
    "\\frac{\n",
    "    \\prob{\\text{BALDNESS} = 1 \\wedge \\text{INVESTMENT} = 1}\n",
    "}{\n",
    "    \\prob{\\text{INVESTMENT} = 1}\n",
    "}\n",
    "\\\\]\n",
    "\n",
    "This is the definition of $\\prob{\\text{BALDNESS} = 1 \\condbar \\text{INVESTMENT} = 1}$!\n",
    "\n",
    "From this point of view, the ability to answer the query $\\prob{\\text{SPAM} = 1 \\condbar W_1 = w_1, \\ldots, W_k = w_k}$ is just a special case of the Naive Bayes model's ability to answer *any* kind of query."
   ]
  },
  {
   "cell_type": "markdown",
   "metadata": {},
   "source": [
    "### Naive Bayes Is A Generative Model\n",
    "\n",
    "We've seen that Naive Bayes assigns a probability to every setting of the variables $\\set{SPAM, W_1, \\ldots W_k}$.\n",
    "\n",
    "What I want to do is *generate* new emails. And I want the probability that I generate a particular email E with some specific $w_1, \\ldots w_k$ values be exactly the probability that Naive Bayes would say that email would have under the equation:\n",
    "\n",
    "\\\\[\n",
    "\\begin{align}\n",
    "&\\prob{W_1 = w_1, \\ldots, W_k = w_k}\n",
    "\\\\\n",
    "&=\\prob{\\text{SPAM} = 0}\n",
    "\\prob{W_1 = w_1, \\ldots, W_k = w_k \\condbar \\text{SPAM} = 0}\\\\\n",
    "&\\quad+\n",
    "\\prob{\\text{SPAM} = 1}\n",
    "\\prob{W_1 = w_1, \\ldots, W_k = w_k \\condbar \\text{SPAM} = 1}\n",
    "\\\\\n",
    "&=\n",
    "\\prob{\\text{SPAM} = 0}\n",
    "\\prob{W_1 = w_1 \\condbar \\text{SPAM} = 0}\\cdots\\prob{W_k = w_k \\condbar \\text{SPAM} = 0}\n",
    "\\\\\n",
    "&\\quad+\n",
    "\\prob{\\text{SPAM} = 1}\n",
    "\\prob{W_1 = w_1 \\condbar \\text{SPAM} = 1}\\cdots\\prob{W_k = w_k \\condbar \\text{SPAM} = 1}\n",
    "\\end{align}\n",
    "\\\\]\n",
    "\n",
    "There's an easy way to do this. First let's sample a random number between zero and one. Call this $x$. If $x < \\prob{\\text{SPAM} = 1}$, then let's pretend that this generated email is spam. Otherwise let's pretend it's ham. Note that if we do this, our probability of generating a spam email is exactly $\\prob{\\text{SPAM} = 1}$. Let $s = 1$ if the email is spam, and $s = 0$ otherwise.\n",
    "\n",
    "Now let's generate the words. We can actually do this in any order we want, because they are all conditionally independent. Let's be reasonable and start with $W_1$. Again, sample an $x$ from zero to one. Put the word $W_1$ in the email if $x < \\prob{W_1 = 1 \\condbar \\text{SPAM} = s}$.\n",
    "\n",
    "Repeat this for all the words. At the end you will end up with a bag of words, which is your email. The probability of this particular bag of words is exactly like we said, because each word was generated independently, so the probability of generating the bag (given $s$) was indeed:\n",
    "\n",
    "\\\\[\n",
    "\\prob{W_1 = w_1 \\condbar \\text{SPAM} = s}\\cdots\\prob{W_k = w_k \\condbar \\text{SPAM} = s}\n",
    "\\\\]"
   ]
  },
  {
   "cell_type": "markdown",
   "metadata": {},
   "source": [
    "### Generative Versus Discriminative\n",
    "\n",
    "Let me give a better example for contrast. Consider a system that is trained to detect whether an image is of a cat or a dog. This system may know how to *detect* a cat or a dog, but it might now know how to *draw* a cat or a dog. A system that can only detect is called a *discriminative model*.\n",
    "\n",
    "More generally, any system that can only answer one kind of query (or a limited set of queries) is called discriminative. For the cat detection problem, we want to know $\\prob{\\text{CAT} = 1 \\condbar \\text{the values of every pixel}}$.\n",
    "\n",
    "A *generative* model can be used to generate images. For instance, it could be used to select values for all the pixels based on the probability distribution $\\prob{\\text{the values of every pixel} \\condbar \\text{CAT} = 1}$. In this case, it would draw a cat.\n",
    "\n",
    "Generative models are typically more powerful because they let us answer more kinds of queries. Discriminative models are one-trick ponies.\n",
    "\n",
    "On the other hand, discriminative models have a much easier job to do. Recognizing cats (I can tell you) is much harder than drawing them. You often need much more data to train a generative model well.\n",
    "\n",
    "In particular, our Naive Bayes model will generate stupid bags of words that would never appear in an email. That's because it doesn't know what words go together. Basically: the Naive Bayes model doesn't know how to write English.\n",
    "\n",
    "To teach a more powerful model how to write English, we would need way more text than is in the Enron dataset.\n",
    "\n",
    "Therefore, if you have a particular task in mind, a discriminative model can often do a better job with less data.\n"
   ]
  },
  {
   "cell_type": "markdown",
   "metadata": {},
   "source": [
    "### Naive Bayes Is A Graphical Model\n",
    "\n",
    "Naive Bayes can be naturally thought of as a *probabilistic graphical model*. Models like this are also called PGMs.\n",
    "\n",
    "What is a PGM? I think an image will show better than I can say:"
   ]
  },
  {
   "cell_type": "code",
   "execution_count": 8,
   "metadata": {},
   "outputs": [
    {
     "data": {
      "image/png": "[encoded data removed]",
      "text/plain": [
       "<matplotlib.figure.Figure at 0x11205fef0>"
      ]
     },
     "metadata": {},
     "output_type": "display_data"
    }
   ],
   "source": [
    "%matplotlib inline\n",
    "import daft\n",
    "\n",
    "ASPECT = 2.5\n",
    "\n",
    "def run():\n",
    "    pgm = daft.PGM([7, 2])\n",
    "\n",
    "    class_node = pgm.add_node(daft.Node(\n",
    "        \"spam?\",\n",
    "        \"spam?\",\n",
    "        y = 1.5, x = (ASPECT / 2 + 0.1) * 2.5, aspect = ASPECT\n",
    "    ))\n",
    "\n",
    "    words = [\n",
    "        \"offer?\",\n",
    "        \"money?\",\n",
    "        \"investment?\",\n",
    "        \"consultation?\"\n",
    "    ]\n",
    "\n",
    "    for idx, word in enumerate(words):\n",
    "        node = daft.Node(\n",
    "            word, word, y = 0.5, x = (ASPECT / 2 + 0.1) * (idx + 1), aspect = ASPECT\n",
    "        )\n",
    "        pgm.add_node(node)\n",
    "        pgm.add_edge(\"spam?\", word, directed = True)\n",
    "\n",
    "    pgm.render()\n",
    "run()"
   ]
  },
  {
   "cell_type": "markdown",
   "metadata": {},
   "source": [
    "The idea is this. Every vertex contains a variable. There is an edge from \"spam?\" to \"offer?\" because whether the word \"offer\" appears depends on whether the email is spam.\n",
    "\n",
    "At each vertex, there is a table that maps every setting of the *parent* variables to a proability distribution. For instance, if the email is spam, we use one $\\prob{\\text{OFFER?} = 1\\condbar \\text{SPAM?} = 1}$, while if the email is ham we use a different $\\prob{\\text{OFFER?} = 1\\condbar \\text{SPAM?} = 0}$.\n",
    "\n",
    "For the spam vertex, which has no parents, there's just one unconditional probability: $\\prob{\\text{SPAM?} = 1}$.\n",
    "\n",
    "We can generate samples from the distribution by generating parent values before child values. In this case, we decide whether an email is spam, and then use that to generate the individual words.\n",
    "\n",
    "It turns out we can come up with a *different* graph for the Naive Bayes model."
   ]
  },
  {
   "cell_type": "code",
   "execution_count": 9,
   "metadata": {},
   "outputs": [
    {
     "data": {
      "image/png": "[encoded data removed]",
      "text/plain": [
       "<matplotlib.figure.Figure at 0x11a89f6a0>"
      ]
     },
     "metadata": {},
     "output_type": "display_data"
    }
   ],
   "source": [
    "%matplotlib inline\n",
    "\n",
    "import daft\n",
    "\n",
    "ASPECT = 2.5\n",
    "\n",
    "def run():\n",
    "    pgm = daft.PGM([7, 3])\n",
    "\n",
    "    offer_node = pgm.add_node(daft.Node(\n",
    "        'offer?',\n",
    "        'offer?',\n",
    "        y = 2.5,\n",
    "        x = (ASPECT / 2 + 0.1) * 1,\n",
    "        aspect = ASPECT,\n",
    "    ))\n",
    "    money_node = pgm.add_node(daft.Node(\n",
    "        'money?',\n",
    "        'money?',\n",
    "        y = 2.5,\n",
    "        x = (ASPECT / 2 + 0.1) * 4,\n",
    "        aspect = ASPECT,\n",
    "    ))\n",
    "    pgm.add_edge('offer?', 'money?')\n",
    "\n",
    "    spam_node = pgm.add_node(daft.Node(\n",
    "        'spam?',\n",
    "        'spam?',\n",
    "        y = 1.5,\n",
    "        x = (ASPECT / 2 + 0.1) * 2.5,\n",
    "        aspect = ASPECT\n",
    "    ))\n",
    "    pgm.add_edge('offer?', 'spam?', directed = True)\n",
    "    pgm.add_edge('money?', 'spam?', directed = True)\n",
    "\n",
    "    words = [\n",
    "        ('investment?', 1),\n",
    "        ('consultation?', 4),\n",
    "    ]\n",
    "\n",
    "    for word, position in words:\n",
    "        node = daft.Node(\n",
    "            word,\n",
    "            word,\n",
    "            y = 0.5,\n",
    "            x = (ASPECT / 2 + 0.1) * position,\n",
    "            aspect = ASPECT\n",
    "        )\n",
    "        pgm.add_node(node)\n",
    "        pgm.add_edge('spam?', word, directed = True)\n",
    "\n",
    "    pgm.render()\n",
    "run()"
   ]
  },
  {
   "cell_type": "markdown",
   "metadata": {},
   "source": [
    "This graph structure doesn't correspond to the Naive Bayes model structure. This model says:\n",
    "\n",
    "1. First decide whether an email contains the word \"offer.\"\n",
    "2. Next, decide whether the email contains the word \"money.\"\n",
    "    * This choice will \"depend\" on offer, because, in reality, \"offer\" depends on whether an email is spam.\n",
    "    * And \"money\" depends on whether an email is spam.\n",
    "    * So we cannot decide whether an email contains \"money\" independently.\n",
    "    * Ultimately this is because $\\prob{\\text{M} = 1 \\condbar \\text{O} = 0} \\ne \\prob{\\text{M} = 1 \\condbar \\text{O} = 1}$.\n",
    "3. Next, decide whether the email is spam.\n",
    "    * This depends on both offer and money.\n",
    "    * If neither is selected, then the email is less likely to be spam.\n",
    "    * If both are selected, then the email is more likely to be spam.\n",
    "    * If one is selected but not the other, the effect is intermediate.\n",
    "    * In every case, the probability of whether an email is spam depends.\n",
    "4. At this point, generate the rest of the words independently.\n",
    "\n",
    "This graph structure is clearly silly. First, it doesn't map onto our intuition of how an email is generated. Also, it has created a dependent of \"money?\" on \"offer?\", even though this dependence could be eliminated if \"spam?\" were a parent of both.\n",
    "\n",
    "This structure *hides* the conditional independence.\n",
    "\n",
    "Anyway, it turns out that any model can always be cast as *some* probabilistical graphical model. In particular, consider:\n",
    "\n",
    "\\\\[\n",
    "\\prob{X_1 = x_1, X_2 = x_2, \\ldots, X_k = x_k}\n",
    "=\n",
    "\\prob{X_1 = x_1}\n",
    "\\prob{X_2 = x_2 \\condbar X_1 = x_1}\n",
    "\\prob{X_3 = x_3 \\condbar X_1 = x_1, X_2 = x_2}\n",
    "\\cdots\n",
    "\\prob{X_k = x_k \\condbar X_1 = x_1, \\ldots X_{k - 1} = x_{k - 1}}\n",
    "\\\\]\n",
    "\n",
    "This is *always* true, by Bayes Rule. Let's see the graph!"
   ]
  },
  {
   "cell_type": "code",
   "execution_count": 11,
   "metadata": {},
   "outputs": [
    {
     "data": {
      "image/png": "[encoded data removed]",
      "text/plain": [
       "<matplotlib.figure.Figure at 0x1182d0780>"
      ]
     },
     "metadata": {},
     "output_type": "display_data"
    }
   ],
   "source": [
    "%matplotlib inline\n",
    "\n",
    "import daft\n",
    "\n",
    "def run():\n",
    "    pgm = daft.PGM([4, 4])\n",
    "\n",
    "    nodes = [\n",
    "        (1, 3, 1),\n",
    "        (2, 2, 1),\n",
    "        (3, 1, 2),\n",
    "        (4, 1, 3),\n",
    "    ]\n",
    "\n",
    "    for node in nodes:\n",
    "        (num, y, x) = node\n",
    "        pgm.add_node(daft.Node(\n",
    "            f\"X_{num}\",\n",
    "            f\"X_{num}\",\n",
    "            x = x,\n",
    "            y = y,\n",
    "        ))\n",
    "        for prev_num in range(1, num):\n",
    "            pgm.add_edge(\n",
    "                f\"X_{prev_num}\",\n",
    "                f\"X_{num}\",\n",
    "                directed = True,\n",
    "            )\n",
    "\n",
    "    pgm.render()\n",
    "run()"
   ]
  },
  {
   "cell_type": "markdown",
   "metadata": {},
   "source": [
    "This model has no interesting structure. Thus it is more natural to think of a Naive Bayes model as a PGM than it is to think just any old probability distribution, where there are no assumptions of independences.\n",
    "\n",
    "Directed models like these are called *Bayes Networks* or just *Bayes Nets*. There is a related kind of model called a *Markov Network* or *Markov Random Field* that maybe we will talk about some day. A Markov Network uses *undirected* edges, but what these undirected edges mean will remain a mystery for now!"
   ]
  },
  {
   "cell_type": "code",
   "execution_count": null,
   "metadata": {
    "collapsed": true
   },
   "outputs": [],
   "source": []
  }
 ],
 "metadata": {
  "kernelspec": {
   "display_name": "Python (default)",
   "language": "python",
   "name": "conda-default"
  },
  "language_info": {
   "codemirror_mode": {
    "name": "ipython",
    "version": 3
   },
   "file_extension": ".py",
   "mimetype": "text/x-python",
   "name": "python",
   "nbconvert_exporter": "python",
   "pygments_lexer": "ipython3",
   "version": "3.6.0"
  }
 },
 "nbformat": 4,
 "nbformat_minor": 2
}
