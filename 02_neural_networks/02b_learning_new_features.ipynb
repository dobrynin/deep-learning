{
 "cells": [
  {
   "cell_type": "markdown",
   "metadata": {},
   "source": [
    "# Learning New Features"
   ]
  },
  {
   "cell_type": "markdown",
   "metadata": {},
   "source": [
    "**(Run this cell to define useful Latex macros)**\n",
    "\\\\[\n",
    "\\newcommand{\\bigoh}[1]{\\mathcal{O}\\left(#1\\right)}\n",
    "\\newcommand{\\card}[1]{\\left\\lvert#1\\right\\rvert}\n",
    "\\newcommand{\\condbar}[0]{\\,\\big|\\,}\n",
    "\\newcommand{\\eprob}[1]{\\widehat{\\text{Pr}}\\left[#1\\right]}\n",
    "\\newcommand{\\norm}[1]{\\left\\lvert\\left\\lvert#1\\right\\rvert\\right\\rvert}\n",
    "\\newcommand{\\prob}[1]{\\text{Pr}\\left[#1\\right]}\n",
    "\\newcommand{\\pprob}[2]{\\text{Pr}_{#1}\\left[#2\\right]}\n",
    "\\newcommand{\\set}[1]{\\left\\{#1\\right\\}}\n",
    "\\newcommand{\\fpartial}[2]{\\frac{\\partial #1}{\\partial #2}}\n",
    "\\\\]"
   ]
  },
  {
   "cell_type": "markdown",
   "metadata": {},
   "source": [
    "### Building the XOR relationship\n",
    "\n",
    "Before we do that, I want to show you a multiple step process of refeaturization that lets us express a relationship we previously could not. I want to learn to predict $Y = X_1 ⊕ X_2$. As discussed we know that the $x_1, x_2$ values for which $Y = 1$ are not linearly separable from the $x_1, x_2$ values for which $Y = 0$.\n",
    "\n",
    "I will show how to build this linearly inseparable relationship out of a short sequence of linearly separable relationships.\n",
    "\n",
    "The first thing I need to note is that the `AND` and `OR` relationships *are* linearly separable."
   ]
  },
  {
   "cell_type": "code",
   "execution_count": 9,
   "metadata": {},
   "outputs": [
    {
     "data": {
      "text/plain": [
       "(-1, 2)"
      ]
     },
     "execution_count": 9,
     "metadata": {},
     "output_type": "execute_result"
    },
    {
     "data": {
      "image/png": "[encoded data removed]",
      "text/plain": [
       "<matplotlib.figure.Figure at 0x10f807748>"
      ]
     },
     "metadata": {},
     "output_type": "display_data"
    }
   ],
   "source": [
    "%matplotlib inline\n",
    "\n",
    "import matplotlib.pyplot as plt\n",
    "import numpy as np\n",
    "\n",
    "plt.plot(\n",
    "    [1],\n",
    "    [1],\n",
    "    'x',\n",
    "    color = 'red',\n",
    "    markersize = 20,\n",
    ")\n",
    "\n",
    "plt.plot(\n",
    "    [0, 0, 1],\n",
    "    [0, 1, 0],\n",
    "    'o',\n",
    "    color = 'blue',\n",
    "    markerfacecolor = 'none',\n",
    "    markersize = 20,\n",
    ")\n",
    "\n",
    "x = np.arange(-1, 2.0, 0.01)\n",
    "plt.plot(\n",
    "    x,\n",
    "    -x + 1.5,\n",
    "    '-',\n",
    "    color = 'purple',\n",
    ")\n",
    "\n",
    "plt.title('AND Relationship')\n",
    "plt.ylim(ymin = -1, ymax = +2)\n",
    "plt.xlim(xmin = -1, xmax = +2)\n"
   ]
  },
  {
   "cell_type": "code",
   "execution_count": 12,
   "metadata": {},
   "outputs": [
    {
     "data": {
      "text/plain": [
       "(-1, 2)"
      ]
     },
     "execution_count": 12,
     "metadata": {},
     "output_type": "execute_result"
    },
    {
     "data": {
      "image/png": "[encoded data removed]",
      "text/plain": [
       "<matplotlib.figure.Figure at 0x10f1fdbe0>"
      ]
     },
     "metadata": {},
     "output_type": "display_data"
    }
   ],
   "source": [
    "%matplotlib inline\n",
    "\n",
    "import matplotlib.pyplot as plt\n",
    "import numpy as np\n",
    "\n",
    "plt.plot(\n",
    "    [0, 1, 1],\n",
    "    [1, 0, 1],\n",
    "    'x',\n",
    "    color = 'red',\n",
    "    markersize = 20,\n",
    ")\n",
    "\n",
    "plt.plot(\n",
    "    [0],\n",
    "    [0],\n",
    "    'o',\n",
    "    color = 'blue',\n",
    "    markerfacecolor = 'none',\n",
    "    markersize = 20,\n",
    ")\n",
    "\n",
    "x = np.arange(-1, 2.0, 0.01)\n",
    "plt.plot(\n",
    "    x,\n",
    "    -x + 0.5,\n",
    "    '-',\n",
    "    color = 'purple',\n",
    ")\n",
    "\n",
    "plt.title('OR Relationship')\n",
    "plt.ylim(ymin = -1, ymax = +2)\n",
    "plt.xlim(xmin = -1, xmax = +2)\n"
   ]
  },
  {
   "cell_type": "markdown",
   "metadata": {},
   "source": [
    "Okay! These are binary relationships. There's also an important *unary* relationship: the NOT relationship. But this one is easy. Just set $y = -x + 1$: this flips $x = 1.0 \\Rightarrow y = 0$ and $x = 0.0 \\Rightarrow y = 1$.\n",
    "\n",
    "So I've shown you that AND, OR, and NOT are all linearly separable, which means I can train three kinds of logistic regression classifier so that:\n",
    "\n",
    "1. $Y = 1$ iff $X_1 = 1$ and $X_2 = 1$ (`AND`)\n",
    "2. $Y = 1$ iff $X_1 = 1$ or $X_2 = 1$ (`OR`)\n",
    "3. $Y = 1$ iff $X_1 = 1$ (or iff $X_2 = 1$) (`NOT`)\n",
    "\n",
    "Out of these three kinds of classifiers, I can build any kind of logical relationship. In fact just `AND` (or `OR`) plus `NOT` would be sufficient. In fact `NAND` (which is again a linearly separable relationship) would be sufficient on its own. But enough of these games."
   ]
  },
  {
   "cell_type": "markdown",
   "metadata": {},
   "source": [
    "Let me show how to build an `XOR` relationship out of `NOT`s and `AND` and `OR`:\n",
    "\n",
    "\\\\[\n",
    "XOR(X_1, X_2)\n",
    ":=\n",
    "\\text{OR}\\Big(\n",
    "    \\text{AND}\\big(\n",
    "        X_1,\n",
    "        \\text{NOT}\\left(\n",
    "            X_2\n",
    "        \\right)\n",
    "    \\big),\n",
    "    \\text{AND}\\big(\n",
    "        \\text{NOT}\\left(\n",
    "            X_1\n",
    "        \\right),\n",
    "        X_2\n",
    "    \\big)\n",
    "\\Big)\n",
    "\\\\]\n",
    "\n",
    "Or written in logic notation:\n",
    "\n",
    "\\\\[\n",
    "X_1 \\oplus X_2\n",
    ":=\n",
    "    \\big(\n",
    "        X_1\n",
    "        \\wedge\n",
    "        \\neg X_2\n",
    "    \\big)\n",
    "\\vee\n",
    "    \\big(\n",
    "        \\neg X_1\n",
    "        \\wedge\n",
    "        X_2\n",
    "    \\big)\n",
    "\\\\]"
   ]
  },
  {
   "cell_type": "markdown",
   "metadata": {},
   "source": [
    "I see three layers of refeaturization here:\n",
    "\n",
    "1. Take as input $X_1, X_2$, and output $X_1, X_2, \\neg X_1, \\neg X_2$.\n",
    "2. Take as input $X_1, X_2, \\neg X_1, \\neg X_2$ and output $X_1 \\wedge \\neg X_2, \\neg X_1 \\wedge X_2$.\n",
    "3. Take as input $X_1 \\wedge \\neg X_2, \\neg X_1 \\wedge X_2$ and output $\\big(X_1 \\wedge \\neg X_2\\big) \\vee \\big(\\neg X_1 \\wedge X_2\\big)$."
   ]
  },
  {
   "cell_type": "markdown",
   "metadata": {},
   "source": [
    "Here is what we have done. We've shown that using several layers and some simple boolean operations, you can create *any* kind of boolean circuit. The several layers are important because this could be a multistep process.\n",
    "\n",
    "Our goal is to *train* the model to learn a non-linear relationship like the XOR. Here is one way to try.\n",
    "\n",
    "1. You decide to use 5 layers of circuits.\n",
    "2. Each layer will contain at most 5 units. The \"units\" are NOT, OR, or AND units.\n",
    "3. The model gets to decide what kinds of units it wants to use. It gets to decide what inputs it hooks up to each unit.\n",
    "4. Its goal is output the correct answer for as many examples as possible."
   ]
  },
  {
   "cell_type": "code",
   "execution_count": null,
   "metadata": {
    "collapsed": true
   },
   "outputs": [],
   "source": []
  }
 ],
 "metadata": {
  "kernelspec": {
   "display_name": "Python (default)",
   "language": "python",
   "name": "conda-default"
  },
  "language_info": {
   "codemirror_mode": {
    "name": "ipython",
    "version": 3
   },
   "file_extension": ".py",
   "mimetype": "text/x-python",
   "name": "python",
   "nbconvert_exporter": "python",
   "pygments_lexer": "ipython3",
   "version": "3.6.0"
  }
 },
 "nbformat": 4,
 "nbformat_minor": 2
}
