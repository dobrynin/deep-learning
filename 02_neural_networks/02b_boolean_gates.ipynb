{
 "cells": [
  {
   "cell_type": "markdown",
   "metadata": {},
   "source": [
    "# Boolean Gates"
   ]
  },
  {
   "cell_type": "markdown",
   "metadata": {},
   "source": [
    "**(Run this cell to define useful Latex macros)**\n",
    "\\\\[\n",
    "\\newcommand{\\bigoh}[1]{\\mathcal{O}\\left(#1\\right)}\n",
    "\\newcommand{\\card}[1]{\\left\\lvert#1\\right\\rvert}\n",
    "\\newcommand{\\condbar}[0]{\\,\\big|\\,}\n",
    "\\newcommand{\\eprob}[1]{\\widehat{\\text{Pr}}\\left[#1\\right]}\n",
    "\\newcommand{\\norm}[1]{\\left\\lvert\\left\\lvert#1\\right\\rvert\\right\\rvert}\n",
    "\\newcommand{\\prob}[1]{\\text{Pr}\\left[#1\\right]}\n",
    "\\newcommand{\\pprob}[2]{\\text{Pr}_{#1}\\left[#2\\right]}\n",
    "\\newcommand{\\set}[1]{\\left\\{#1\\right\\}}\n",
    "\\newcommand{\\fpartial}[2]{\\frac{\\partial #1}{\\partial #2}}\n",
    "\\\\]"
   ]
  },
  {
   "cell_type": "markdown",
   "metadata": {},
   "source": [
    "In the last notebook, I showed that the XOR relationship cannot be linearly separated. That means that no logistic regression classifier can learn the relationship $Y = X_1 \\oplus X_2$ without us adding in a new cross term.\n",
    "\n",
    "Before I continue, I want to show that you *can* build the XOR relationship out of a *sequence* of linearly separable relationships. In this sense, we can hope that linear separable relationships are still \"sufficient:\" we just need to build more complicated classifiers out of them.\n",
    "\n",
    "In fact, any complicated *Boolean formula* can be defined in terms of a sequence of simpler Boolean relationships. The only ones you really need are NOT and AND. Or NOT and OR. Or just NAND! Any of those are a \"minimum viable set\" to generate any other kind of complex relationship between boolean variables.\n",
    "\n",
    "For convenience, it is nice to start with NOT, AND, and OR, and build from there. This is more than you strictly need, but it's more convenient and nicer.\n",
    "\n",
    "The magic is that NOT, AND, and OR are all linearly separable relationship. That means that a linear classifier like logistic regression can learn them. And that means that you any Boolean formula, no matter how complex, can always be built out of linear classifiers.\n",
    "\n",
    "Any discrete function on a finite domain can be represented as a Boolean circuit. That means that fixed-width integer addition, subtraction, multiplication, and (integer) division can all be written as Boolean circuits. \n",
    "\n",
    "Guess what: that's exactly the kind of circuitry that exists in your computer! There are circuits that take in boolean inputs (the ones and zeros of the input integers) and do some \"logical\" operation that corresponds to addition/subtraction/et cetera and spit out boolean outputs: the ones and zeros of the output integer!\n",
    "\n",
    "So, if we can build any Boolean circuit from linear classifiers, that's a pretty big deal!"
   ]
  },
  {
   "cell_type": "markdown",
   "metadata": {},
   "source": [
    "### AND Is Linearly Separable\n",
    "\n",
    "The AND relationship is linearly separable, so that means that there is a linear classifier that can learn it. That means there is a linear classifier that spits out a positive number whenever $AND(X_1, X_2)$ is true, and a negative number if $AND(X_1, X_2)$ is false.\n",
    "\n",
    "Important note: I'm assuming that the input values are binarized: they are either zero or one.\n",
    "\n",
    "The output is *not* binarized, but I will assume that we also have a *nonlinear* function that makes any negative number zero, and any positive number 1. This will be important for when we feed the output of one \"logic gate\" into another."
   ]
  },
  {
   "cell_type": "code",
   "execution_count": 1,
   "metadata": {},
   "outputs": [
    {
     "data": {
      "text/plain": [
       "(-1, 2)"
      ]
     },
     "execution_count": 1,
     "metadata": {},
     "output_type": "execute_result"
    },
    {
     "data": {
      "image/png": "[encoded data removed]",
      "text/plain": [
       "<matplotlib.figure.Figure at 0x111503978>"
      ]
     },
     "metadata": {},
     "output_type": "display_data"
    }
   ],
   "source": [
    "%matplotlib inline\n",
    "\n",
    "import matplotlib.pyplot as plt\n",
    "import numpy as np\n",
    "\n",
    "plt.plot(\n",
    "    [1],\n",
    "    [1],\n",
    "    'x',\n",
    "    color = 'red',\n",
    "    markersize = 20,\n",
    ")\n",
    "\n",
    "plt.plot(\n",
    "    [0, 0, 1],\n",
    "    [0, 1, 0],\n",
    "    'o',\n",
    "    color = 'blue',\n",
    "    markerfacecolor = 'none',\n",
    "    markersize = 20,\n",
    ")\n",
    "\n",
    "x = np.arange(-1, 2.0, 0.01)\n",
    "plt.plot(\n",
    "    x,\n",
    "    -x + 1.5,\n",
    "    '-',\n",
    "    color = 'purple',\n",
    ")\n",
    "\n",
    "plt.title('AND Relationship')\n",
    "plt.ylim(ymin = -1, ymax = +2)\n",
    "plt.xlim(xmin = -1, xmax = +2)\n"
   ]
  },
  {
   "cell_type": "markdown",
   "metadata": {},
   "source": [
    "### Or Is Linearly Separable Too\n",
    "\n",
    "Here's a graph to show you that the pairs of $X_1, X_2$ that result in $OR(X_1, X_2) = 1$ are linearly separable form those that give $OR(X_1, X_2) = 0$. Again, that means that a linear classifier can learn this relationship\n"
   ]
  },
  {
   "cell_type": "code",
   "execution_count": 2,
   "metadata": {
    "scrolled": true
   },
   "outputs": [
    {
     "data": {
      "text/plain": [
       "(-1, 2)"
      ]
     },
     "execution_count": 2,
     "metadata": {},
     "output_type": "execute_result"
    },
    {
     "data": {
      "image/png": "[encoded data removed]",
      "text/plain": [
       "<matplotlib.figure.Figure at 0x1121a05c0>"
      ]
     },
     "metadata": {},
     "output_type": "display_data"
    }
   ],
   "source": [
    "%matplotlib inline\n",
    "\n",
    "import matplotlib.pyplot as plt\n",
    "import numpy as np\n",
    "\n",
    "plt.plot(\n",
    "    [0, 1, 1],\n",
    "    [1, 0, 1],\n",
    "    'x',\n",
    "    color = 'red',\n",
    "    markersize = 20,\n",
    ")\n",
    "\n",
    "plt.plot(\n",
    "    [0],\n",
    "    [0],\n",
    "    'o',\n",
    "    color = 'blue',\n",
    "    markerfacecolor = 'none',\n",
    "    markersize = 20,\n",
    ")\n",
    "\n",
    "x = np.arange(-1, 2.0, 0.01)\n",
    "plt.plot(\n",
    "    x,\n",
    "    -x + 0.5,\n",
    "    '-',\n",
    "    color = 'purple',\n",
    ")\n",
    "\n",
    "plt.title('OR Relationship')\n",
    "plt.ylim(ymin = -1, ymax = +2)\n",
    "plt.xlim(xmin = -1, xmax = +2)\n"
   ]
  },
  {
   "cell_type": "markdown",
   "metadata": {},
   "source": [
    "### NOT Is Linearly Separable\n",
    "\n",
    "This one is a *unary* operation. It will look a little weird because I have an unneeded $y$ axis here..."
   ]
  },
  {
   "cell_type": "code",
   "execution_count": 8,
   "metadata": {},
   "outputs": [
    {
     "data": {
      "text/plain": [
       "(-1, 2)"
      ]
     },
     "execution_count": 8,
     "metadata": {},
     "output_type": "execute_result"
    },
    {
     "data": {
      "image/png": "[encoded data removed]",
      "text/plain": [
       "<matplotlib.figure.Figure at 0x11275d860>"
      ]
     },
     "metadata": {},
     "output_type": "display_data"
    }
   ],
   "source": [
    "%matplotlib inline\n",
    "\n",
    "import matplotlib.pyplot as plt\n",
    "import numpy as np\n",
    "\n",
    "plt.plot(\n",
    "    [0],\n",
    "    [0],\n",
    "    'x',\n",
    "    color = 'red',\n",
    "    markersize = 20,\n",
    ")\n",
    "\n",
    "plt.plot(\n",
    "    [1],\n",
    "    [0],\n",
    "    'o',\n",
    "    color = 'blue',\n",
    "    markerfacecolor = 'none',\n",
    "    markersize = 20,\n",
    ")\n",
    "\n",
    "plt.plot(\n",
    "    [0.5, 0.5],\n",
    "    [-1, 1.0],\n",
    "    '-',\n",
    "    color = 'purple',\n",
    ")\n",
    "\n",
    "plt.title('NOT Relationship')\n",
    "plt.ylim(ymin = -1, ymax = +1)\n",
    "plt.xlim(xmin = -1, xmax = +2)\n"
   ]
  },
  {
   "cell_type": "markdown",
   "metadata": {},
   "source": [
    "### Building XOR from AND and NOT\n",
    "\n",
    "In order to get started let me show how to build an `XOR` relationship out of `NOT`s and `AND` and `OR`:\n",
    "\n",
    "\\\\[\n",
    "XOR(X_1, X_2)\n",
    ":=\n",
    "\\text{OR}\\Big(\n",
    "    \\text{AND}\\big(\n",
    "        X_1,\n",
    "        \\text{NOT}\\left(\n",
    "            X_2\n",
    "        \\right)\n",
    "    \\big),\n",
    "    \\text{AND}\\big(\n",
    "        \\text{NOT}\\left(\n",
    "            X_1\n",
    "        \\right),\n",
    "        X_2\n",
    "    \\big)\n",
    "\\Big)\n",
    "\\\\]\n",
    "\n",
    "Or written in logic notation:\n",
    "\n",
    "\\\\[\n",
    "X_1 \\oplus X_2\n",
    ":=\n",
    "    \\big(\n",
    "        X_1\n",
    "        \\wedge\n",
    "        \\neg X_2\n",
    "    \\big)\n",
    "\\vee\n",
    "    \\big(\n",
    "        \\neg X_1\n",
    "        \\wedge\n",
    "        X_2\n",
    "    \\big)\n",
    "\\\\]"
   ]
  },
  {
   "cell_type": "markdown",
   "metadata": {},
   "source": [
    "Let's write this as a sequence of layers of logic operations. Each layer can only use inputs from the previous layer. (Some neural networks actually do allow *skip connections*, but more on that much later!)\n",
    "\n",
    "I see three layers of logical operations here:\n",
    "\n",
    "1. Layer 1: Take as initial input $X_1, X_2$, and output $X_1, X_2, \\neg X_1, \\neg X_2$.\n",
    "2. Layer 2: Take as input $X_1, X_2, \\neg X_1, \\neg X_2$ and output $X_1 \\wedge \\neg X_2, \\neg X_1 \\wedge X_2$.\n",
    "3. Layer 3: Take as input $X_1 \\wedge \\neg X_2, \\neg X_1 \\wedge X_2$ and output finally $\\big(X_1 \\wedge \\neg X_2\\big) \\vee \\big(\\neg X_1 \\wedge X_2\\big)$."
   ]
  },
  {
   "cell_type": "markdown",
   "metadata": {},
   "source": []
  }
 ],
 "metadata": {
  "kernelspec": {
   "display_name": "Python (default)",
   "language": "python",
   "name": "conda-default"
  },
  "language_info": {
   "codemirror_mode": {
    "name": "ipython",
    "version": 3
   },
   "file_extension": ".py",
   "mimetype": "text/x-python",
   "name": "python",
   "nbconvert_exporter": "python",
   "pygments_lexer": "ipython3",
   "version": "3.6.0"
  }
 },
 "nbformat": 4,
 "nbformat_minor": 2
}
